{
 "cells": [
  {
   "cell_type": "markdown",
   "id": "f9fdd226",
   "metadata": {},
   "source": [
    "# Dinâmica e evolução de sistemas fechados\n",
    "\n",
    "Em sistemas isolados descritos pelo operador densidade $\\hat{\\rho}$, puro os misto, a evolução temporal é governada pela equação de von Neumann:\n",
    "\n",
    "$$\n",
    "\\begin{align*}\\frac{d}{dt}\\hat{\\rho}(t) \n",
    "&= -i[\\hat{H}(t),\\hat{\\rho}(t)].\n",
    "\\end{align*}\n",
    "$$\n",
    "\n",
    "Assim como na equação de Schrodinger para a evolução do estado puro em termos de um operador linear $\\hat{U}(t,t_0)$, explicitamente\n",
    "$$\n",
    "|\\psi(t)\\rangle = \\hat{U}(t,t_0) |\\psi(t_0)\\rangle,\n",
    "$$\n",
    "\n",
    "temos para o operador densidade\n",
    "$$\n",
    "\\hat{\\rho}(t) = \\hat{U}(t,t_0) \\hat{\\rho}(t=0) \\hat{U}^\\dagger(t,t_0),\n",
    "$$\n",
    "com\n",
    "$$\n",
    "\\begin{align*}\n",
    " \\frac{d}{dt}\\hat{U}(t,t_0) =-i \\hat{H}(t) \\hat{U}(t,t_0),\n",
    " \\end{align*}\n",
    "$$\n",
    "com $\\hat{U}(t_0,t_0) = \\mathbb{I}$.\n",
    "\n",
    "O operador evolução $\\hat{U}(t_0,t)$ é unitário.\n",
    "\n",
    "\n",
    "Isso facilita a nossa vida porque dado o Hamiltoniano $\\hat{H}(t)$, encontrando o operador evolução, podemos facilmente calcular a matriz de densidade em qualquer instante de tempo através de uma simples rotação. Vimos que a unitariedade de $\\hat{U}(t,t_0)$ preserva a pureza .\n",
    "\n",
    "Vamos aqui ver ilustrações de como calcular numericamente a evolução de $\\hat{\\rho}$ considerando o bff: sistema de dois níveis, aka, qubit.\n",
    "\n",
    "Um pacote sensacional do python que oferece diversos recursos prontos para brincar com a dinâmica de sistemas abertos e fechados é o QuTip.\n",
    "\n"
   ]
  },
  {
   "cell_type": "code",
   "execution_count": 1,
   "id": "bc0e1fd2",
   "metadata": {},
   "outputs": [],
   "source": [
    "import qutip"
   ]
  },
  {
   "cell_type": "markdown",
   "id": "b8d03957",
   "metadata": {},
   "source": [
    "## Hamiltoniano independente do tempo\n",
    "\n",
    "Se o Hamiltoniano é independente do tempo, a solução para $\\hat{U}(t,t_0)$ é simplificada\n",
    "\n",
    "$$\n",
    "\\hat{U}(t,t_0) = e^{-i \\hat{H}(t-t_0)}.$$\n",
    "\n",
    "Na base de autoestados $|\\psi_n\\rangle$ de $\\hat{H}$, escrevemos \n",
    "$$\n",
    "\\hat{U}(t,t_0) = \\sum_n e^{-i E_n (t-t_0)}|\\psi_n\\rangle \\langle \\psi_n|\n",
    ".$$\n",
    "\n",
    "\n",
    "Vamos considerar o exemplo visto na aula onde \n",
    "$$\n",
    "\\hat{H} = J \\hat{\\sigma}_x.\n",
    "$$\n",
    "\n",
    "Vimos que o operador evolução nada mais é do que \n",
    "$$\n",
    "\\hat{U}(t,t_0)  = e^{-iJ \\hat{\\sigma}_x(t-t_0)} \n",
    "$$\n",
    "\n",
    "$$\n",
    "\\hat{U}(t,t_0)  = \n",
    "\\cos{J(t-t_0)} \\mathbb{I} - i \\sin {J(t-t_0)} \\sigma_x\n",
    "$$\n",
    "\n",
    "ou \n",
    "$$\n",
    "\\hat{U}(t,t_0)  = e^{-iJ(t-t_0)} |+\\rangle\\langle +| + e^{iJ(t-t_0)} |-\\rangle\\langle -| .\n",
    "$$\n",
    "\n",
    "\n",
    "Matricialmente, \n",
    "$$\n",
    "\\hat{U}(t,t_0) = \n",
    "\\begin{pmatrix} \\cos{[J(t-t_0)]} & i\\sin{[J(t-t_0)]} \\\\ \n",
    "i\\sin{[J(t-t_0)]} & \\cos{[J(t-t_0)]}  \\end{pmatrix}\n",
    "$$\n",
    "\n",
    "\n",
    "Usando esse operador, solução analítica de $\\hat{\\rho}(t)$ é\n",
    "\n",
    "$$\n",
    "\\hat{\\rho}(t) = \\begin{pmatrix} (1 -\\epsilon) \\cos^2{[J(t-t_0)]}+ \\epsilon \\sin^2{[J(t-t_0)]}& -i  \\sin{[J(t-t_0)]} \\cos{[J(t-t_0)]}(1-2\\epsilon)\\\\ i  \\sin{[J(t-t_0)]} \\cos{[J(t-t_0)]}(1-2\\epsilon) &  \\epsilon \\cos^2{[J(t-t_0)]}+ (1-\\epsilon) \\sin^2{[J(t-t_0)]}\\end{pmatrix}\n",
    "$$\n",
    "\n",
    "\n",
    "Como todos esses objetos dependem dos parâmetros do Hamiltoniano e do tempo $t$ vale a pena criar funções para trabalhar com eles."
   ]
  },
  {
   "cell_type": "code",
   "execution_count": 2,
   "id": "15a3a324",
   "metadata": {},
   "outputs": [],
   "source": [
    "def U_Op_expm(HOp: qutip.Qobj, t: float, t0: float = 0): \n",
    "    \"\"\"\n",
    "    computes the evolution operator of a time-independent \n",
    "    Hamiltonian by exponentiation using QuTip\n",
    "    \n",
    "    inputs: \n",
    "        - HOp: operator associated with Hamiltonian (qutip.Qobj)\n",
    "        - t: time (float)\n",
    "        - t0: initial time (float)\n",
    "        \n",
    "    outpus:\n",
    "        - U(t,t0): numerical evolution operator (qutip.Qobj)    \n",
    "    \"\"\"\n",
    "    return (-1j * HOp * (t-t0)).expm()"
   ]
  },
  {
   "cell_type": "code",
   "execution_count": 3,
   "id": "2a6f7faa",
   "metadata": {},
   "outputs": [],
   "source": [
    "import numpy as np\n",
    "def U_Op_fromHeigenstates(HOp: qutip.Qobj, t: float, t0: float = 0): \n",
    "    \"\"\"\n",
    "    computes the evolution operator of a time-independent \n",
    "    Hamiltonian from its spectram decomposition using QuTip\n",
    "    \n",
    "    inputs: \n",
    "        - HOp: operator associated with Hamiltonian (qutip.Qobj)\n",
    "        - t: time (float)\n",
    "        - t0: initial time (float)\n",
    "        \n",
    "    outpus:\n",
    "        - U(t,t0): numerical evolution operator (qutip.Qobj)    \n",
    "    \"\"\"\n",
    "    En, Psin = HOp.eigenstates()\n",
    "    UOp = 0 * HOp\n",
    "    for n in range(En.shape[0]):\n",
    "        UOp += np.exp(-1J* En[n] * (t-t0)) * qutip.ket2dm(Psin[n])\n",
    "        \n",
    "    return UOp"
   ]
  },
  {
   "cell_type": "code",
   "execution_count": 4,
   "id": "c990aa95",
   "metadata": {},
   "outputs": [],
   "source": [
    "J = 1.0\n",
    "sx = qutip.sigmax()\n",
    "H = J * sx\n",
    "\n",
    "# um tempo teste\n",
    "t = 1.5"
   ]
  },
  {
   "cell_type": "markdown",
   "id": "1206ba66",
   "metadata": {},
   "source": [
    "Testando se as funções produzem objetos iguais para $t=0.1$"
   ]
  },
  {
   "cell_type": "code",
   "execution_count": 5,
   "id": "a006f973",
   "metadata": {},
   "outputs": [
    {
     "data": {
      "text/latex": [
       "Quantum object: dims = [[2], [2]], shape = (2, 2), type = oper, isherm = False $ \\\\ \\left(\\begin{matrix}0.071 & -0.997j\\\\-0.997j & 0.071\\\\\\end{matrix}\\right)$"
      ],
      "text/plain": [
       "Quantum object: dims = [[2], [2]], shape = (2, 2), type = oper, isherm = False\n",
       "Qobj data =\n",
       "[[0.0707372+0.j         0.       -0.99749499j]\n",
       " [0.       -0.99749499j 0.0707372+0.j        ]]"
      ]
     },
     "execution_count": 5,
     "metadata": {},
     "output_type": "execute_result"
    }
   ],
   "source": [
    "# exponencial\n",
    "U_Op_expm(H, t, 0)"
   ]
  },
  {
   "cell_type": "code",
   "execution_count": 6,
   "id": "3e76d328",
   "metadata": {},
   "outputs": [
    {
     "data": {
      "text/latex": [
       "Quantum object: dims = [[2], [2]], shape = (2, 2), type = oper, isherm = False $ \\\\ \\left(\\begin{matrix}0.071 & -0.997j\\\\-0.997j & 0.071\\\\\\end{matrix}\\right)$"
      ],
      "text/plain": [
       "Quantum object: dims = [[2], [2]], shape = (2, 2), type = oper, isherm = False\n",
       "Qobj data =\n",
       "[[0.0707372+0.j         0.       -0.99749499j]\n",
       " [0.       -0.99749499j 0.0707372+0.j        ]]"
      ]
     },
     "execution_count": 6,
     "metadata": {},
     "output_type": "execute_result"
    }
   ],
   "source": [
    "# dos auto-estados de H\n",
    "U_Op_fromHeigenstates(H, t,0)"
   ]
  },
  {
   "cell_type": "markdown",
   "id": "1c094ebe",
   "metadata": {},
   "source": [
    "O QuTip tem ainda a função propagator que permite obter o operador $\\hat{U}(t,t_0)$ diretamente a partir do Hamiltoniano e de uma lista de tempos. Comparemos com os objetos acima."
   ]
  },
  {
   "cell_type": "code",
   "execution_count": 7,
   "id": "b475a634",
   "metadata": {},
   "outputs": [
    {
     "data": {
      "text/latex": [
       "Quantum object: dims = [[2], [2]], shape = (2, 2), type = oper, isherm = False $ \\\\ \\left(\\begin{matrix}0.071 & -0.997j\\\\-0.997j & 0.071\\\\\\end{matrix}\\right)$"
      ],
      "text/plain": [
       "Quantum object: dims = [[2], [2]], shape = (2, 2), type = oper, isherm = False\n",
       "Qobj data =\n",
       "[[0.07073663+0.j         0.        -0.99749503j]\n",
       " [0.        -0.99749503j 0.07073663+0.j        ]]"
      ]
     },
     "execution_count": 7,
     "metadata": {},
     "output_type": "execute_result"
    }
   ],
   "source": [
    "qutip.propagator(H, [0,t], [])"
   ]
  },
  {
   "cell_type": "markdown",
   "id": "b341aa39",
   "metadata": {},
   "source": [
    "Fantástico, né? É possível ainda trabalhar com Hamiltonianos dependentes do tempo. Vamos ver já já.\n",
    "Mostremos, primeiro, que esses operadores são a mesma coisa que encontramos analiticamente. \n"
   ]
  },
  {
   "cell_type": "code",
   "execution_count": 8,
   "id": "d83a0b4e",
   "metadata": {},
   "outputs": [],
   "source": [
    "def U_Op_example_analytical(J: float = 1.0, t: float = 0.1, t0: float = 0): \n",
    "    \"\"\"\n",
    "    computes the evolution operator of a time-independent \n",
    "    Hamiltonian from its spectram decomposition using QuTip\n",
    "    \n",
    "    inputs: \n",
    "        - J: Hamiltonian parameter (float)\n",
    "        - t: time (float)\n",
    "        - t0: initial time (float)\n",
    "        \n",
    "    outpus:\n",
    "        - U(t,t0): analytical evolution operator (qutip.Qobj)    \n",
    "    \"\"\"\n",
    "    a = np.cos(J*(t-t0))\n",
    "    b = np.sin(J*(t-t0))\n",
    "    return qutip.Qobj(np.array([[a, -1J*b],[-1J*b, a]]))"
   ]
  },
  {
   "cell_type": "code",
   "execution_count": 9,
   "id": "90bb87fe",
   "metadata": {},
   "outputs": [
    {
     "data": {
      "text/latex": [
       "Quantum object: dims = [[2], [2]], shape = (2, 2), type = oper, isherm = False $ \\\\ \\left(\\begin{matrix}0.071 & -0.997j\\\\-0.997j & 0.071\\\\\\end{matrix}\\right)$"
      ],
      "text/plain": [
       "Quantum object: dims = [[2], [2]], shape = (2, 2), type = oper, isherm = False\n",
       "Qobj data =\n",
       "[[0.0707372+0.j         0.       -0.99749499j]\n",
       " [0.       -0.99749499j 0.0707372+0.j        ]]"
      ]
     },
     "execution_count": 9,
     "metadata": {},
     "output_type": "execute_result"
    }
   ],
   "source": [
    "U_Op_example_analytical(J, t, 0)"
   ]
  },
  {
   "cell_type": "markdown",
   "id": "31b79604",
   "metadata": {},
   "source": [
    "A seguir, vamos ver que $\\hat{U}(t,t_0)$ é, de fato, unitária!\n",
    "\n",
    "No QuTip, a multiplicação de operadores é feita com o operador tradicional da multiplicação em python \" * \". O ${}^\\dagger$ de um qutip.Qobj, por sua vez, pode ser calculado simplesmente usando \"O.dag()\".\n",
    "Note que, se estivéssemos lidando com matrizes do numpy, precisaríamos usar o \" @ \" e ainda \"O.T.conjugate()\" "
   ]
  },
  {
   "cell_type": "code",
   "execution_count": 10,
   "id": "bf0e1216",
   "metadata": {},
   "outputs": [],
   "source": [
    "U = U_Op_expm(H, t, 0)"
   ]
  },
  {
   "cell_type": "code",
   "execution_count": 11,
   "id": "629b9478",
   "metadata": {},
   "outputs": [
    {
     "data": {
      "text/latex": [
       "Quantum object: dims = [[2], [2]], shape = (2, 2), type = oper, isherm = True $ \\\\ \\left(\\begin{matrix}1.000 & 0.0\\\\0.0 & 1.000\\\\\\end{matrix}\\right)$"
      ],
      "text/plain": [
       "Quantum object: dims = [[2], [2]], shape = (2, 2), type = oper, isherm = True\n",
       "Qobj data =\n",
       "[[1. 0.]\n",
       " [0. 1.]]"
      ]
     },
     "execution_count": 11,
     "metadata": {},
     "output_type": "execute_result"
    }
   ],
   "source": [
    "U * U.dag()"
   ]
  },
  {
   "cell_type": "code",
   "execution_count": 12,
   "id": "8c5327f2",
   "metadata": {},
   "outputs": [
    {
     "data": {
      "text/latex": [
       "Quantum object: dims = [[2], [2]], shape = (2, 2), type = oper, isherm = True $ \\\\ \\left(\\begin{matrix}1.000 & 0.0\\\\0.0 & 1.000\\\\\\end{matrix}\\right)$"
      ],
      "text/plain": [
       "Quantum object: dims = [[2], [2]], shape = (2, 2), type = oper, isherm = True\n",
       "Qobj data =\n",
       "[[1. 0.]\n",
       " [0. 1.]]"
      ]
     },
     "execution_count": 12,
     "metadata": {},
     "output_type": "execute_result"
    }
   ],
   "source": [
    "U.dag() * U"
   ]
  },
  {
   "cell_type": "markdown",
   "id": "e10200d9",
   "metadata": {},
   "source": [
    "Agora que temos o nosso operador evolução, podemos evoluir o estado inicial do exemplo\n",
    "$$\n",
    "\\hat{\\rho}(t=0) = \\begin{pmatrix} 1 -\\epsilon & 0 \\\\ 0 & \\epsilon\\end{pmatrix}\n",
    "$$\n",
    "para uma lista de tempos e calcular como a pureza é modificada durante a dinâmica. \n",
    "\n",
    "\n",
    "O QuTip tem uma função que nos permite simplesmente calcular $\\hat{\\rho}(t)$ sem, necessariamente calcular o operador $\\hat{U}(t,t_0)$ e fazer a rotação. É o mesolve. Vamos ilustrar as duas formas e mostrar que são equivalentes.\n",
    "\n",
    "Ah, os objetos qutip.Qobj também têm uma função para calcular a pureza: \"O.purity()\" does the job!\n",
    "\n"
   ]
  },
  {
   "cell_type": "code",
   "execution_count": 13,
   "id": "970e4141",
   "metadata": {},
   "outputs": [],
   "source": [
    "# Função para o estado inicial\n",
    "def initial_state_twolevel(epsilon: float = 0.1):\n",
    "    \"\"\"\n",
    "    creates an initial state for a two-level system with populations\n",
    "    1- epsilon and epsilon.\n",
    "    \n",
    "    inputs:\n",
    "        - epsilon: level of purity (epsilon=0, pure state in the ground-state)\n",
    "        \n",
    "    outputs:\n",
    "        - density matrix of the two-level system (qutip.Qobj)\n",
    "    \"\"\"\n",
    "    return qutip.Qobj(np.array([[1-epsilon,0],[0, epsilon]]))"
   ]
  },
  {
   "cell_type": "code",
   "execution_count": 14,
   "id": "c246a82b",
   "metadata": {},
   "outputs": [],
   "source": [
    "# lista de tempos\n",
    "tmax = 10.0\n",
    "nts = 1001\n",
    "ts = np.linspace(0,tmax,nts)\n"
   ]
  },
  {
   "cell_type": "code",
   "execution_count": 15,
   "id": "a55b6798",
   "metadata": {},
   "outputs": [],
   "source": [
    "# estado inicial\n",
    "epsilon = 0.1\n",
    "rho_0 = initial_state_twolevel(epsilon)"
   ]
  },
  {
   "cell_type": "code",
   "execution_count": 16,
   "id": "aeabc68e",
   "metadata": {},
   "outputs": [],
   "source": [
    "# definindo uma função para calcular a evolução através de rho_0 e U\n",
    "def evolve_rho0_from_propagator(HOp: qutip.Qobj, rho_0: qutip.Qobj, ts: np.array):\n",
    "    nts = ts.shape[0]\n",
    "    rho_ts = []\n",
    "    for i in range(nts):\n",
    "        t = ts[i]\n",
    "        U = U_Op_expm(HOp, t, 0.0)\n",
    "        rho_t = U * rho_0 * U.dag()\n",
    "        rho_ts.append(rho_t)\n",
    "        \n",
    "    return rho_ts\n",
    "    "
   ]
  },
  {
   "cell_type": "markdown",
   "id": "f0eebe33",
   "metadata": {},
   "source": [
    "A função pronta do QuTip retorna uma variável \"result\". Para acessar os $\\hat{\\rho}(t)$ em cada instante de tempo, basta usar \"result.states\". Isso é uma lista de matrizes de densidade. "
   ]
  },
  {
   "cell_type": "code",
   "execution_count": 17,
   "id": "e1343c99",
   "metadata": {},
   "outputs": [],
   "source": [
    "# usando a função pronta do QuTip para calcular rho em vários instantes de tempo\n",
    "rho_ts_qutip = qutip.mesolve(H, rho_0, ts, [], []).states\n"
   ]
  },
  {
   "cell_type": "code",
   "execution_count": 18,
   "id": "fae84f46",
   "metadata": {},
   "outputs": [],
   "source": [
    "# usando a função que escrevemos\n",
    "rho_ts_ehnois = evolve_rho0_from_propagator(H, rho_0, ts)\n"
   ]
  },
  {
   "cell_type": "code",
   "execution_count": 19,
   "id": "7fa4fbf3",
   "metadata": {},
   "outputs": [
    {
     "name": "stdout",
     "output_type": "stream",
     "text": [
      "funcao mesolve\n"
     ]
    },
    {
     "data": {
      "text/latex": [
       "Quantum object: dims = [[2], [2]], shape = (2, 2), type = oper, isherm = True $ \\\\ \\left(\\begin{matrix}0.792 & 0.274j\\\\-0.274j & 0.208\\\\\\end{matrix}\\right)$"
      ],
      "text/plain": [
       "Quantum object: dims = [[2], [2]], shape = (2, 2), type = oper, isherm = True\n",
       "Qobj data =\n",
       "[[0.79168305+0.j         0.        +0.27371388j]\n",
       " [0.        -0.27371388j 0.20831695+0.j        ]]"
      ]
     },
     "execution_count": 19,
     "metadata": {},
     "output_type": "execute_result"
    }
   ],
   "source": [
    "# um índice de tempo aleatório, pode mudar a vontade\n",
    "it = 666\n",
    "print('funcao mesolve')\n",
    "rho_ts_qutip[it]"
   ]
  },
  {
   "cell_type": "code",
   "execution_count": 20,
   "id": "e58b5980",
   "metadata": {},
   "outputs": [
    {
     "name": "stdout",
     "output_type": "stream",
     "text": [
      "funcao com operador evolucao\n"
     ]
    },
    {
     "data": {
      "text/latex": [
       "Quantum object: dims = [[2], [2]], shape = (2, 2), type = oper, isherm = True $ \\\\ \\left(\\begin{matrix}0.792 & 0.274j\\\\-0.274j & 0.208\\\\\\end{matrix}\\right)$"
      ],
      "text/plain": [
       "Quantum object: dims = [[2], [2]], shape = (2, 2), type = oper, isherm = True\n",
       "Qobj data =\n",
       "[[0.79168405+0.j         0.        +0.27371594j]\n",
       " [0.        -0.27371594j 0.20831595+0.j        ]]"
      ]
     },
     "execution_count": 20,
     "metadata": {},
     "output_type": "execute_result"
    }
   ],
   "source": [
    "print('funcao com operador evolucao')\n",
    "rho_ts_ehnois[it]"
   ]
  },
  {
   "cell_type": "markdown",
   "id": "78295a7a",
   "metadata": {},
   "source": [
    "Pode mudar o índice a vontade. Suspeitamos que a função é bem parecida com o que o QuTip faz internamente.  Vale a pena dar uma olhada nos códigos fonte se você é curiose.\n",
    "\n",
    "Agora, sim: pureza! Lembra que dissemos que a pureza não muda? Pois é!"
   ]
  },
  {
   "cell_type": "code",
   "execution_count": 21,
   "id": "6d1433cf",
   "metadata": {},
   "outputs": [],
   "source": [
    "purity_ts = np.zeros(nts)\n",
    "\n",
    "for it in range(nts):\n",
    "    purity_ts[it] = rho_ts_qutip[it].purity()"
   ]
  },
  {
   "cell_type": "markdown",
   "id": "b513a825",
   "metadata": {},
   "source": [
    "Ah, mas eu quero ver isso! Bora plotar!\n",
    "Minha biblioteca favorita do python: matplotlib!"
   ]
  },
  {
   "cell_type": "code",
   "execution_count": 22,
   "id": "315abafa",
   "metadata": {},
   "outputs": [],
   "source": [
    "%matplotlib inline\n",
    "import matplotlib.pyplot as plt\n",
    "import matplotlib as mpl\n",
    "\n",
    "# rendering latex because I like it\n",
    "mpl.rcParams.update({'text.usetex': True,  'axes.labelsize': 'large'})"
   ]
  },
  {
   "cell_type": "code",
   "execution_count": 23,
   "id": "a685becc",
   "metadata": {},
   "outputs": [
    {
     "data": {
      "text/plain": [
       "(0.0, 1.0)"
      ]
     },
     "execution_count": 23,
     "metadata": {},
     "output_type": "execute_result"
    },
    {
     "name": "stderr",
     "output_type": "stream",
     "text": [
      "warning: kpathsea: /usr/local/texlive/texmf-local/ls-R: No usable entries in ls-R.\n",
      "warning: kpathsea: See the manual for how to generate ls-R.\n"
     ]
    },
    {
     "data": {
      "image/png": "[encoded data removed]",
      "text/plain": [
       "<Figure size 640x480 with 1 Axes>"
      ]
     },
     "metadata": {},
     "output_type": "display_data"
    }
   ],
   "source": [
    "fig, ax = plt.subplots()\n",
    "ax.plot(ts, purity_ts, 'r-', lw=2)\n",
    "ax.set_xlabel(r\"$t$\")\n",
    "ax.set_ylabel(r\"$P(t)$ purity\")\n",
    "ax.set_ylim(0,1)"
   ]
  },
  {
   "cell_type": "markdown",
   "id": "d44173b5",
   "metadata": {},
   "source": [
    "## Hamiltoniano dependente do tempo\n",
    "\n",
    "Ok, neste caso, a gente viu duas possibilidades\n",
    "\n",
    "(ii) $[\\hat{H}(t), \\hat{H}(t')] = 0$, que dá como solução\n",
    "\n",
    "$$\n",
    "\\hat{U}(t,t_0) = \\exp{\\left(-i \\int_{t_0}^t dt' \\hat{H(t')}\\right)}\n",
    "$$\n",
    "\n",
    "e (iii) $[\\hat{H}(t), \\hat{H}(t')] \\neq 0$, que dá como solução\n",
    "\n",
    "$$\n",
    "\\hat{U}(t, t_0) = 1 + \\sum_{n=0}^\\infty ( -i)^n\n",
    "\t\t\\int_{t_0}^t dt_1 \\int_{t_0}^{t_1} dt_2 ... \\int_{t_0}^{t_{n-1}} dt_{n} \\hat{H}(t_1) \\hat{H}(t_2) ... \\hat{H}(t_n)\n",
    "$$\n",
    "\n",
    "Confesso que, a primeira vez que eu tentei resolver esse conjunto de integrais aninhadas em um sistema que apareceu na minha pesquisa eu pensei 'eu vou fazer isso é no QuTip que é mais rápido'. Pois é, minha alma foi corrompida pelo QuTip.\n",
    "\n",
    "A documentação deles para sistemas dependentes do tempo é bem completa.  Veja: [Solving Problems with Time-dependent Hamiltonians](https://qutip.org/docs/latest/guide/dynamics/dynamics-time.html).\n",
    "\n",
    "Eu, particularmente gosto do método de usar funções com dicionários. Vou mostrar no exemplo. \n",
    "\n",
    "### Landau-Zener\n",
    "Aqui, eu vou adaptar nosso exemplo para um modelinho que aparece recorrentemente em teoria de controle quântico e é quase um lego básico que permite resolver muitos problemas que conseguem se quebrar em peças de lego: o modelo Landau-Zener. \n",
    "\n",
    "Ele descreve um spin (ou sistema de dois níveis ou qubit) com um termo de spin-flip $\\uparrow \\leftrightarrow \\downarrow $ e um campo na direção longitudinal $\\hat{z}$. O Hamiltoniano é:\n",
    "\n",
    "$$\n",
    "\\hat{H}_{LZ}(t) = J \\hat{\\sigma}_x + \\omega(t) \\hat{\\sigma}_z\n",
    "$$\n",
    "\n",
    "Esse modelo simples não é tão fácil de resolver na mão para qualquer $\\omega(t)$.\n",
    "\n",
    "Quem tiver curiosidade e quiser brincar mais, eu recomendo fortemente o artigo [Exact solutions to Landau–Zener problems by evolution operator method](https://www.sciencedirect.com/science/article/pii/S0375960110003312) que mostra uma forma alternativa de quebrar o operador evolução como $\\hat{U}(t) = e^{i\\alpha(t) \\hat{\\sigma}_x} e^{i\\beta(t) \\hat{\\sigma}_y} e^{i\\gamma(t) \\hat{\\sigma}_z}$. Isso é bacana porque se você estiver simulando um circuito quântico (que vamos ver mais pra frente), fica muito fácil implementar essa unitária. Vou colocar esse link no Notion.\n",
    "\n",
    "\n",
    "Vamos considerar a dependência temporal da forma linear\n",
    "\n",
    "$$\n",
    "\\omega(t) = \\omega_0 + \\Delta \\frac{t}{\\tau}.\n",
    "$$\n",
    "\n",
    "Isso descreve uma rampa no tempo que leva $\\omega$ de $\\omega_0$ a $\\Delta$ com velocidade controlada por $\\tau$. Quanto menor $\\tau$ mais rápida é essa velocidade.\n",
    "\n",
    "Veja que o Hamiltoniano tem uma parte estática (termo em x) e uma dinâmica (termo em z). A estrutura que ele usa para o objeto que passamos para mesolve é uma lista com duas entradas:\n",
    "- Hstatic: qutip.Qobj, incluindo o operador multiplicado pelos acoplamentos de energia. No exemplo: $J \\hat{\\sigma}_x$\n",
    "- \\[ OpHdinamic, timeDependentfunction \\]: uma lista com o operador que vem acompanhado da função dependente do tempo. Os argumentos dessa função (os parâmetros) são passados através de args.\n",
    "\n",
    "\n",
    "Como a pureza não muda, podemos estar interessados em calcular observáveis no tempo. Digamos, os valores esperados $\\langle \\sigma_x \\rangle$, $\\langle \\sigma_y \\rangle$, $\\langle \\sigma_z \\rangle$.\n",
    "\n",
    "O QuTip permite que a gente calcule valores esperados diretamente na chamada da função mesolve. Alternativamente, podíamos obter as matrizes de densidade instantâneas e calcular esses valores esperados na mão. Vamos ver os dois métodos. \n",
    "\n",
    "Segue a implementação:"
   ]
  },
  {
   "cell_type": "code",
   "execution_count": 24,
   "id": "e9ff9e9c",
   "metadata": {},
   "outputs": [],
   "source": [
    "# função para omega(t)\n",
    "\n",
    "def omega_t(t: float, params_omega: dict):\n",
    "    \"\"\"\n",
    "        function for omega(t) to be used with QuTip \n",
    "        using dictionary\n",
    "        \n",
    "        inputs:\n",
    "            - t: time variable\n",
    "            - params_omega: dictionary with entries \n",
    "                            omega_0\n",
    "                            Delta\n",
    "                            tau\n",
    "    \"\"\"\n",
    "    return params_omega['omega_0'] + params_omega['Delta'] * t / params_omega['tau']\n",
    "\n"
   ]
  },
  {
   "cell_type": "code",
   "execution_count": 25,
   "id": "3f384b1d",
   "metadata": {},
   "outputs": [],
   "source": [
    "# operadores estático e dinâmico\n",
    "Hstatic = J * qutip.sigmax()\n",
    "Hdinamic = qutip.sigmaz()"
   ]
  },
  {
   "cell_type": "code",
   "execution_count": 26,
   "id": "0bd6a076",
   "metadata": {},
   "outputs": [],
   "source": [
    "# dicionário com parâmetros para a parte temporal\n",
    "omega_args = {'omega_0': -2.0, 'Delta': 2.0, 'tau': 5.0}"
   ]
  },
  {
   "cell_type": "code",
   "execution_count": 27,
   "id": "91daeceb",
   "metadata": {},
   "outputs": [],
   "source": [
    "# Hamiltoniano total\n",
    "H_LZ = [Hstatic, [Hdinamic, omega_t]]"
   ]
  },
  {
   "cell_type": "code",
   "execution_count": 28,
   "id": "2348d4a3",
   "metadata": {},
   "outputs": [],
   "source": [
    "# agora, sim, o rho(t)\n",
    "rho_ts_LZ = qutip.mesolve(H_LZ, rho_0, ts, [], [], args=omega_args).states\n",
    "\n"
   ]
  },
  {
   "cell_type": "code",
   "execution_count": 29,
   "id": "14100234",
   "metadata": {},
   "outputs": [],
   "source": [
    "# observáveis, através dos rho(t)\n",
    "sx_ts = np.zeros(nts)\n",
    "sy_ts = np.zeros(nts)\n",
    "sz_ts = np.zeros(nts)\n",
    "\n",
    "for it in range(nts):\n",
    "    sx_ts[it] = qutip.expect(qutip.sigmax(),rho_ts_LZ[it])\n",
    "    sy_ts[it] = qutip.expect(qutip.sigmay(),rho_ts_LZ[it])\n",
    "    sz_ts[it] = qutip.expect(qutip.sigmaz(),rho_ts_LZ[it])"
   ]
  },
  {
   "cell_type": "code",
   "execution_count": 30,
   "id": "bf3e0751",
   "metadata": {},
   "outputs": [],
   "source": [
    "# observáveis, através do mesolve diretamente\n",
    "observables = [qutip.sigmax(), qutip.sigmay(), qutip.sigmaz()]\n",
    "obs_t = qutip.mesolve(H_LZ, rho_0, ts, [], e_ops=observables, args=omega_args).expect\n",
    "\n"
   ]
  },
  {
   "cell_type": "code",
   "execution_count": 31,
   "id": "095a55eb",
   "metadata": {},
   "outputs": [
    {
     "data": {
      "image/png": "[encoded data removed]",
      "text/plain": [
       "<Figure size 640x480 with 1 Axes>"
      ]
     },
     "metadata": {},
     "output_type": "display_data"
    }
   ],
   "source": [
    "fig2, ax2 = plt.subplots()\n",
    "\n",
    "ax2.plot(ts, sx_ts, 'r-', label=r\"$\\langle \\hat{\\sigma}_x \\rangle $\")\n",
    "ax2.plot(ts, sy_ts, 'g-', label=r\"$\\langle \\hat{\\sigma}_y \\rangle $\")\n",
    "ax2.plot(ts, sz_ts, 'b-', label=r\"$\\langle \\hat{\\sigma}_z \\rangle $\")\n",
    "\n",
    "\n",
    "ax2.plot(ts, obs_t[0], color='yellow',linestyle='--', label=r\"$\\langle \\hat{\\sigma}_x \\rangle $\")\n",
    "ax2.plot(ts, obs_t[1], color='magenta',linestyle='--', label=r\"$\\langle \\hat{\\sigma}_y \\rangle $\")\n",
    "ax2.plot(ts, obs_t[2], color='cyan',linestyle='--', label=r\"$\\langle \\hat{\\sigma}_z \\rangle $\")\n",
    "\n",
    "\n",
    "ax2.set_xlabel(r\"$t$\")\n",
    "ax2.set_ylabel(r\"$\\langle \\hat{\\sigma}_j \\rangle $\")\n",
    "\n",
    "leg2 = ax2.legend(ncol=2)"
   ]
  }
 ],
 "metadata": {
  "kernelspec": {
   "display_name": "Python 3 (ipykernel)",
   "language": "python",
   "name": "python3"
  },
  "language_info": {
   "codemirror_mode": {
    "name": "ipython",
    "version": 3
   },
   "file_extension": ".py",
   "mimetype": "text/x-python",
   "name": "python",
   "nbconvert_exporter": "python",
   "pygments_lexer": "ipython3",
   "version": "3.9.19"
  }
 },
 "nbformat": 4,
 "nbformat_minor": 5
}
