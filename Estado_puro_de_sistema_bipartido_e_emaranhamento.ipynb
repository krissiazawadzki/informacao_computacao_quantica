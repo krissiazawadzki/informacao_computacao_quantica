{
 "cells": [
  {
   "cell_type": "markdown",
   "id": "valued-responsibility",
   "metadata": {},
   "source": [
    "$$\n",
    "\\newcommand{\\ket}[1]{\\left|{#1}\\right\\rangle}\n",
    "\\newcommand{\\bra}[1]{\\left\\langle{#1}\\right|}\n",
    "\\newcommand{\\braket}[1]{\\langle | {#1} | \\rangle}\n",
    "$$\n",
    "\n",
    "# Estado puro de sistema bipartido\n",
    "\n",
    "\n",
    "Vimos em aula que um sistema com $N$ qubits em um estado puro é, em geral, descrito como uma superposição de todas as $2^N$ possíveis configurações de $0$'s e $1$'. \n",
    "\n",
    "Por exemplo, \n",
    "- dois qubits têm $2^2 = 4$ configurações :\n",
    "\n",
    "$$\n",
    "\\begin{align*} |\\Psi\\rangle & =\n",
    "  \\alpha_{00} |00\\rangle \n",
    "+ \\alpha_{01} |01 \\rangle \n",
    "+ \\alpha_{10} |10\\rangle\n",
    "+ \\alpha_{11} |11\\rangle \n",
    "\\end{align*}$$\n",
    "\n",
    "\n",
    "<br>\n",
    "\n",
    "- três qubits têm $2^3 = 8$ configurações: \n",
    "\n",
    "$$\n",
    "\\begin{align*} |\\Psi\\rangle & =\n",
    "  \\alpha_{000} |000\\rangle \n",
    "+ \\alpha_{001} |001 \\rangle \n",
    "+ \\alpha_{010} |010\\rangle\n",
    "+ \\alpha_{011} |011\\rangle \n",
    "+ \\alpha_{101} |101\\rangle \n",
    "+ \\alpha_{110} |110\\rangle \n",
    "+ \\alpha_{111} |111\\rangle \n",
    "\\end{align*}$$\n",
    "\n",
    "<br>\n",
    "\n",
    "\n",
    "- quadro qubits têm $2^4= 16$ configurações:\n",
    "\n",
    "$$\n",
    "\\begin{align*} |\\Psi\\rangle & =\n",
    "  \\alpha_{0000} |0000\\rangle \n",
    "+ \\alpha_{0001} |0001 \\rangle \n",
    "+ \\alpha_{0010} |0010\\rangle + ... + \n",
    "+ \\alpha_{1111} |0011\\rangle\n",
    "\\end{align*}$$\n",
    "\n",
    "\n",
    "## Bases de qubits\n",
    "\n",
    "Para gerar a base $\\{ | \\sigma_1 \\sigma_2 ... \\sigma_N \\rangle \\}$  com esses $2^N$ configurações, fazemos o produto tensorial entre os estados da base individual de cada qubit $\\{ | \\sigma_j \\rangle \\}$ onde $\\sigma_j = 0,1$. Isto é:\n",
    "\n",
    "$$\n",
    "\\begin{align*}\n",
    "\\{ | \\sigma_1 \\sigma_2 ... \\sigma_N \\rangle \\} = \n",
    "\\begin{pmatrix}\n",
    "|\\sigma_0\\rangle =\\begin{pmatrix} 1 \\\\ 0   \\end{pmatrix} \\\\\n",
    "|\\sigma_1\\rangle = \\begin{pmatrix} 0 \\\\ 1 \\end{pmatrix} \\\\\n",
    "\\end{pmatrix}_{n=1} \n",
    "\\otimes \n",
    "\\begin{pmatrix}\n",
    "|\\sigma_0\\rangle =\\begin{pmatrix} 1 \\\\ 0   \\end{pmatrix} \\\\\n",
    "|\\sigma_1\\rangle = \\begin{pmatrix} 0 \\\\ 1 \\end{pmatrix} \\\\\n",
    "\\end{pmatrix}_{n=2} \\otimes \\dots \\otimes\n",
    "\\begin{pmatrix}\n",
    "|\\sigma_0\\rangle =\\begin{pmatrix} 1 \\\\ 0   \\end{pmatrix} \\\\\n",
    "|\\sigma_1\\rangle = \\begin{pmatrix} 0 \\\\ 1 \\end{pmatrix} \\\\\n",
    "\\end{pmatrix}_{n=N} \n",
    "\\end{align*}\n",
    "$$\n",
    "\n",
    "Abaixo, vamos fazer uma função que gera todas essas configurações para $N$ qubits usando o numpy. \n",
    "Para isso, podemos usar o fato de que para cada configuração binária equivale a um índice $j=0, ..., 2^N-1$. \n",
    "No exemplo de de três qubits\n",
    "$$\n",
    "\\begin{align*}\n",
    "j =0 \\rightarrow|000\\rangle\\\\\n",
    "j =1 \\rightarrow|001\\rangle\\\\\n",
    "j =2 \\rightarrow|010\\rangle\\\\\n",
    "j =3 \\rightarrow|011\\rangle\\\\\n",
    "j =4 \\rightarrow|100\\rangle\\\\\n",
    "j =5 \\rightarrow|101\\rangle\\\\\n",
    "j =6 \\rightarrow|110\\rangle\\\\\n",
    "j =7 \\rightarrow|111\\rangle\\\\\n",
    "\\end{align*}\n",
    "$$\n",
    "\n",
    "Fatoramos esse índice em potências de $2^n$ com $n=0, ..., N-1$. Por exemplo, para $N=3$ \n",
    "\n",
    "$$\\begin{align*}\n",
    "j =0 \\rightarrow 0 \\times 2^2 + 0 \\times 2^1 + 0 \\times 2^0\n",
    "\\\\\n",
    "j =1 \\rightarrow 0 \\times 2^2 + 0 \\times 2^1 + 1 \\times 2^0\n",
    "\\\\\n",
    "j =2 \\rightarrow 0 \\times 2^2 + 1 \\times 2^1 + 0 \\times 2^0\n",
    "\\\\\n",
    "j =3 \\rightarrow 0 \\times 2^2 + 1 \\times 2^1 + 1 \\times 2^0\n",
    "\\\\\n",
    "j =4 \\rightarrow 1 \\times 2^2 + 0 \\times 2^1 + 0 \\times 2^0\n",
    "\\\\\n",
    "j =5 \\rightarrow 1 \\times 2^2 + 0 \\times 2^1 + 1 \\times 2^0\n",
    "\\\\\n",
    "j =6 \\rightarrow 1 \\times 2^2 + 1 \\times 2^1 + 0 \\times 2^0\n",
    "\\\\\n",
    "j =7 \\rightarrow 1 \\times 2^2 + 1 \\times 2^1 + 1 \\times 2^0\n",
    "\\end{align*}\n",
    "$$\n",
    "\n",
    "O dígito ($0$ ou $1$) que acompanha a potência de $2^n$ nada mais é do que o resultado da divisão do índice por 2 e ele dá exatamente a configuração na ordem que queremos. \n",
    "\n",
    "\n",
    "\n",
    "<b>Uma observação</b>: por causa da memória, o máximo $N$ razoável para adotarmos é da ordem de $N=16$. A partir desse tamanho, o computador começa a ter dificuldades ...\n",
    "\n",
    "\n"
   ]
  },
  {
   "cell_type": "code",
   "execution_count": 1,
   "id": "legislative-luxury",
   "metadata": {},
   "outputs": [],
   "source": [
    "\n",
    "import numpy as np"
   ]
  },
  {
   "cell_type": "code",
   "execution_count": 2,
   "id": "proof-appeal",
   "metadata": {},
   "outputs": [],
   "source": [
    "def index_to_binary(index : int, N : int):\n",
    "    '''\n",
    "    Function converts integer index to binary configuration factorizing it.\n",
    "    \n",
    "    Inputs:\n",
    "    - index: index to be factorized\n",
    "    - N: number of qubits\n",
    "    \n",
    "    Outputs:\n",
    "    - binstate: np.array with the corresponding binary configuration\n",
    "    \n",
    "    \n",
    "    '''\n",
    "    if(index > 2**N):\n",
    "        raise ValueError(f'Configuration does not exist for N ={N} sites')\n",
    "\n",
    "    if(N > 18):\n",
    "        raise ValueError(f'Careful with system size. Max N=16!')\n",
    "\n",
    "    \n",
    "    binstate = np.zeros((N), dtype=int)\n",
    "\n",
    "    for i in range(N):\n",
    "        digit = index / int(2**i) % 2\n",
    "        binstate[N-i-1] = digit\n",
    "\n",
    "    return binstate\n",
    "\n",
    "def binary_configurations(N: int):\n",
    "    if(N > 18):\n",
    "        raise ValueError(f'Careful with system size. Max N=16!')\n",
    "        \n",
    "    D = int(2**N)\n",
    "    binary_basis = np.zeros((D,N), dtype=int)\n",
    "    for j in range(D):\n",
    "        binary_basis[j,:] = index_to_binary(j,N).T\n",
    "        \n",
    "    return binary_basis\n",
    "    "
   ]
  },
  {
   "cell_type": "markdown",
   "id": "alternate-spectrum",
   "metadata": {},
   "source": [
    "Vamos ver a seguir alguns casos\n",
    "\n"
   ]
  },
  {
   "cell_type": "code",
   "execution_count": 3,
   "id": "severe-poultry",
   "metadata": {},
   "outputs": [
    {
     "name": "stdout",
     "output_type": "stream",
     "text": [
      "\n",
      " 2 qubits:\n",
      " [[0 0]\n",
      " [0 1]\n",
      " [1 0]\n",
      " [1 1]]\n",
      "\n",
      " 3 qubits:\n",
      " [[0 0 0]\n",
      " [0 0 1]\n",
      " [0 1 0]\n",
      " [0 1 1]\n",
      " [1 0 0]\n",
      " [1 0 1]\n",
      " [1 1 0]\n",
      " [1 1 1]]\n",
      "\n",
      " 4 qubits:\n",
      " [[0 0 0 0]\n",
      " [0 0 0 1]\n",
      " [0 0 1 0]\n",
      " [0 0 1 1]\n",
      " [0 1 0 0]\n",
      " [0 1 0 1]\n",
      " [0 1 1 0]\n",
      " [0 1 1 1]\n",
      " [1 0 0 0]\n",
      " [1 0 0 1]\n",
      " [1 0 1 0]\n",
      " [1 0 1 1]\n",
      " [1 1 0 0]\n",
      " [1 1 0 1]\n",
      " [1 1 1 0]\n",
      " [1 1 1 1]]\n",
      "\n",
      " 5 qubits:\n",
      " [[0 0 0 0 0]\n",
      " [0 0 0 0 1]\n",
      " [0 0 0 1 0]\n",
      " [0 0 0 1 1]\n",
      " [0 0 1 0 0]\n",
      " [0 0 1 0 1]\n",
      " [0 0 1 1 0]\n",
      " [0 0 1 1 1]\n",
      " [0 1 0 0 0]\n",
      " [0 1 0 0 1]\n",
      " [0 1 0 1 0]\n",
      " [0 1 0 1 1]\n",
      " [0 1 1 0 0]\n",
      " [0 1 1 0 1]\n",
      " [0 1 1 1 0]\n",
      " [0 1 1 1 1]\n",
      " [1 0 0 0 0]\n",
      " [1 0 0 0 1]\n",
      " [1 0 0 1 0]\n",
      " [1 0 0 1 1]\n",
      " [1 0 1 0 0]\n",
      " [1 0 1 0 1]\n",
      " [1 0 1 1 0]\n",
      " [1 0 1 1 1]\n",
      " [1 1 0 0 0]\n",
      " [1 1 0 0 1]\n",
      " [1 1 0 1 0]\n",
      " [1 1 0 1 1]\n",
      " [1 1 1 0 0]\n",
      " [1 1 1 0 1]\n",
      " [1 1 1 1 0]\n",
      " [1 1 1 1 1]]\n",
      "\n",
      " 6 qubits:\n",
      " [[0 0 0 0 0 0]\n",
      " [0 0 0 0 0 1]\n",
      " [0 0 0 0 1 0]\n",
      " [0 0 0 0 1 1]\n",
      " [0 0 0 1 0 0]\n",
      " [0 0 0 1 0 1]\n",
      " [0 0 0 1 1 0]\n",
      " [0 0 0 1 1 1]\n",
      " [0 0 1 0 0 0]\n",
      " [0 0 1 0 0 1]\n",
      " [0 0 1 0 1 0]\n",
      " [0 0 1 0 1 1]\n",
      " [0 0 1 1 0 0]\n",
      " [0 0 1 1 0 1]\n",
      " [0 0 1 1 1 0]\n",
      " [0 0 1 1 1 1]\n",
      " [0 1 0 0 0 0]\n",
      " [0 1 0 0 0 1]\n",
      " [0 1 0 0 1 0]\n",
      " [0 1 0 0 1 1]\n",
      " [0 1 0 1 0 0]\n",
      " [0 1 0 1 0 1]\n",
      " [0 1 0 1 1 0]\n",
      " [0 1 0 1 1 1]\n",
      " [0 1 1 0 0 0]\n",
      " [0 1 1 0 0 1]\n",
      " [0 1 1 0 1 0]\n",
      " [0 1 1 0 1 1]\n",
      " [0 1 1 1 0 0]\n",
      " [0 1 1 1 0 1]\n",
      " [0 1 1 1 1 0]\n",
      " [0 1 1 1 1 1]\n",
      " [1 0 0 0 0 0]\n",
      " [1 0 0 0 0 1]\n",
      " [1 0 0 0 1 0]\n",
      " [1 0 0 0 1 1]\n",
      " [1 0 0 1 0 0]\n",
      " [1 0 0 1 0 1]\n",
      " [1 0 0 1 1 0]\n",
      " [1 0 0 1 1 1]\n",
      " [1 0 1 0 0 0]\n",
      " [1 0 1 0 0 1]\n",
      " [1 0 1 0 1 0]\n",
      " [1 0 1 0 1 1]\n",
      " [1 0 1 1 0 0]\n",
      " [1 0 1 1 0 1]\n",
      " [1 0 1 1 1 0]\n",
      " [1 0 1 1 1 1]\n",
      " [1 1 0 0 0 0]\n",
      " [1 1 0 0 0 1]\n",
      " [1 1 0 0 1 0]\n",
      " [1 1 0 0 1 1]\n",
      " [1 1 0 1 0 0]\n",
      " [1 1 0 1 0 1]\n",
      " [1 1 0 1 1 0]\n",
      " [1 1 0 1 1 1]\n",
      " [1 1 1 0 0 0]\n",
      " [1 1 1 0 0 1]\n",
      " [1 1 1 0 1 0]\n",
      " [1 1 1 0 1 1]\n",
      " [1 1 1 1 0 0]\n",
      " [1 1 1 1 0 1]\n",
      " [1 1 1 1 1 0]\n",
      " [1 1 1 1 1 1]]\n",
      "\n",
      " 7 qubits:\n",
      " [[0 0 0 0 0 0 0]\n",
      " [0 0 0 0 0 0 1]\n",
      " [0 0 0 0 0 1 0]\n",
      " [0 0 0 0 0 1 1]\n",
      " [0 0 0 0 1 0 0]\n",
      " [0 0 0 0 1 0 1]\n",
      " [0 0 0 0 1 1 0]\n",
      " [0 0 0 0 1 1 1]\n",
      " [0 0 0 1 0 0 0]\n",
      " [0 0 0 1 0 0 1]\n",
      " [0 0 0 1 0 1 0]\n",
      " [0 0 0 1 0 1 1]\n",
      " [0 0 0 1 1 0 0]\n",
      " [0 0 0 1 1 0 1]\n",
      " [0 0 0 1 1 1 0]\n",
      " [0 0 0 1 1 1 1]\n",
      " [0 0 1 0 0 0 0]\n",
      " [0 0 1 0 0 0 1]\n",
      " [0 0 1 0 0 1 0]\n",
      " [0 0 1 0 0 1 1]\n",
      " [0 0 1 0 1 0 0]\n",
      " [0 0 1 0 1 0 1]\n",
      " [0 0 1 0 1 1 0]\n",
      " [0 0 1 0 1 1 1]\n",
      " [0 0 1 1 0 0 0]\n",
      " [0 0 1 1 0 0 1]\n",
      " [0 0 1 1 0 1 0]\n",
      " [0 0 1 1 0 1 1]\n",
      " [0 0 1 1 1 0 0]\n",
      " [0 0 1 1 1 0 1]\n",
      " [0 0 1 1 1 1 0]\n",
      " [0 0 1 1 1 1 1]\n",
      " [0 1 0 0 0 0 0]\n",
      " [0 1 0 0 0 0 1]\n",
      " [0 1 0 0 0 1 0]\n",
      " [0 1 0 0 0 1 1]\n",
      " [0 1 0 0 1 0 0]\n",
      " [0 1 0 0 1 0 1]\n",
      " [0 1 0 0 1 1 0]\n",
      " [0 1 0 0 1 1 1]\n",
      " [0 1 0 1 0 0 0]\n",
      " [0 1 0 1 0 0 1]\n",
      " [0 1 0 1 0 1 0]\n",
      " [0 1 0 1 0 1 1]\n",
      " [0 1 0 1 1 0 0]\n",
      " [0 1 0 1 1 0 1]\n",
      " [0 1 0 1 1 1 0]\n",
      " [0 1 0 1 1 1 1]\n",
      " [0 1 1 0 0 0 0]\n",
      " [0 1 1 0 0 0 1]\n",
      " [0 1 1 0 0 1 0]\n",
      " [0 1 1 0 0 1 1]\n",
      " [0 1 1 0 1 0 0]\n",
      " [0 1 1 0 1 0 1]\n",
      " [0 1 1 0 1 1 0]\n",
      " [0 1 1 0 1 1 1]\n",
      " [0 1 1 1 0 0 0]\n",
      " [0 1 1 1 0 0 1]\n",
      " [0 1 1 1 0 1 0]\n",
      " [0 1 1 1 0 1 1]\n",
      " [0 1 1 1 1 0 0]\n",
      " [0 1 1 1 1 0 1]\n",
      " [0 1 1 1 1 1 0]\n",
      " [0 1 1 1 1 1 1]\n",
      " [1 0 0 0 0 0 0]\n",
      " [1 0 0 0 0 0 1]\n",
      " [1 0 0 0 0 1 0]\n",
      " [1 0 0 0 0 1 1]\n",
      " [1 0 0 0 1 0 0]\n",
      " [1 0 0 0 1 0 1]\n",
      " [1 0 0 0 1 1 0]\n",
      " [1 0 0 0 1 1 1]\n",
      " [1 0 0 1 0 0 0]\n",
      " [1 0 0 1 0 0 1]\n",
      " [1 0 0 1 0 1 0]\n",
      " [1 0 0 1 0 1 1]\n",
      " [1 0 0 1 1 0 0]\n",
      " [1 0 0 1 1 0 1]\n",
      " [1 0 0 1 1 1 0]\n",
      " [1 0 0 1 1 1 1]\n",
      " [1 0 1 0 0 0 0]\n",
      " [1 0 1 0 0 0 1]\n",
      " [1 0 1 0 0 1 0]\n",
      " [1 0 1 0 0 1 1]\n",
      " [1 0 1 0 1 0 0]\n",
      " [1 0 1 0 1 0 1]\n",
      " [1 0 1 0 1 1 0]\n",
      " [1 0 1 0 1 1 1]\n",
      " [1 0 1 1 0 0 0]\n",
      " [1 0 1 1 0 0 1]\n",
      " [1 0 1 1 0 1 0]\n",
      " [1 0 1 1 0 1 1]\n",
      " [1 0 1 1 1 0 0]\n",
      " [1 0 1 1 1 0 1]\n",
      " [1 0 1 1 1 1 0]\n",
      " [1 0 1 1 1 1 1]\n",
      " [1 1 0 0 0 0 0]\n",
      " [1 1 0 0 0 0 1]\n",
      " [1 1 0 0 0 1 0]\n",
      " [1 1 0 0 0 1 1]\n",
      " [1 1 0 0 1 0 0]\n",
      " [1 1 0 0 1 0 1]\n",
      " [1 1 0 0 1 1 0]\n",
      " [1 1 0 0 1 1 1]\n",
      " [1 1 0 1 0 0 0]\n",
      " [1 1 0 1 0 0 1]\n",
      " [1 1 0 1 0 1 0]\n",
      " [1 1 0 1 0 1 1]\n",
      " [1 1 0 1 1 0 0]\n",
      " [1 1 0 1 1 0 1]\n",
      " [1 1 0 1 1 1 0]\n",
      " [1 1 0 1 1 1 1]\n",
      " [1 1 1 0 0 0 0]\n",
      " [1 1 1 0 0 0 1]\n",
      " [1 1 1 0 0 1 0]\n",
      " [1 1 1 0 0 1 1]\n",
      " [1 1 1 0 1 0 0]\n",
      " [1 1 1 0 1 0 1]\n",
      " [1 1 1 0 1 1 0]\n",
      " [1 1 1 0 1 1 1]\n",
      " [1 1 1 1 0 0 0]\n",
      " [1 1 1 1 0 0 1]\n",
      " [1 1 1 1 0 1 0]\n",
      " [1 1 1 1 0 1 1]\n",
      " [1 1 1 1 1 0 0]\n",
      " [1 1 1 1 1 0 1]\n",
      " [1 1 1 1 1 1 0]\n",
      " [1 1 1 1 1 1 1]]\n",
      "\n",
      " 8 qubits:\n",
      " [[0 0 0 ... 0 0 0]\n",
      " [0 0 0 ... 0 0 1]\n",
      " [0 0 0 ... 0 1 0]\n",
      " ...\n",
      " [1 1 1 ... 1 0 1]\n",
      " [1 1 1 ... 1 1 0]\n",
      " [1 1 1 ... 1 1 1]]\n",
      "\n",
      " 9 qubits:\n",
      " [[0 0 0 ... 0 0 0]\n",
      " [0 0 0 ... 0 0 1]\n",
      " [0 0 0 ... 0 1 0]\n",
      " ...\n",
      " [1 1 1 ... 1 0 1]\n",
      " [1 1 1 ... 1 1 0]\n",
      " [1 1 1 ... 1 1 1]]\n",
      "\n",
      " 10 qubits:\n",
      " [[0 0 0 ... 0 0 0]\n",
      " [0 0 0 ... 0 0 1]\n",
      " [0 0 0 ... 0 1 0]\n",
      " ...\n",
      " [1 1 1 ... 1 0 1]\n",
      " [1 1 1 ... 1 1 0]\n",
      " [1 1 1 ... 1 1 1]]\n",
      "\n",
      " 11 qubits:\n",
      " [[0 0 0 ... 0 0 0]\n",
      " [0 0 0 ... 0 0 1]\n",
      " [0 0 0 ... 0 1 0]\n",
      " ...\n",
      " [1 1 1 ... 1 0 1]\n",
      " [1 1 1 ... 1 1 0]\n",
      " [1 1 1 ... 1 1 1]]\n",
      "\n",
      " 12 qubits:\n",
      " [[0 0 0 ... 0 0 0]\n",
      " [0 0 0 ... 0 0 1]\n",
      " [0 0 0 ... 0 1 0]\n",
      " ...\n",
      " [1 1 1 ... 1 0 1]\n",
      " [1 1 1 ... 1 1 0]\n",
      " [1 1 1 ... 1 1 1]]\n",
      "\n",
      " 13 qubits:\n",
      " [[0 0 0 ... 0 0 0]\n",
      " [0 0 0 ... 0 0 1]\n",
      " [0 0 0 ... 0 1 0]\n",
      " ...\n",
      " [1 1 1 ... 1 0 1]\n",
      " [1 1 1 ... 1 1 0]\n",
      " [1 1 1 ... 1 1 1]]\n",
      "\n",
      " 14 qubits:\n",
      " [[0 0 0 ... 0 0 0]\n",
      " [0 0 0 ... 0 0 1]\n",
      " [0 0 0 ... 0 1 0]\n",
      " ...\n",
      " [1 1 1 ... 1 0 1]\n",
      " [1 1 1 ... 1 1 0]\n",
      " [1 1 1 ... 1 1 1]]\n",
      "\n",
      " 15 qubits:\n",
      " [[0 0 0 ... 0 0 0]\n",
      " [0 0 0 ... 0 0 1]\n",
      " [0 0 0 ... 0 1 0]\n",
      " ...\n",
      " [1 1 1 ... 1 0 1]\n",
      " [1 1 1 ... 1 1 0]\n",
      " [1 1 1 ... 1 1 1]]\n",
      "\n",
      " 16 qubits:\n",
      " [[0 0 0 ... 0 0 0]\n",
      " [0 0 0 ... 0 0 1]\n",
      " [0 0 0 ... 0 1 0]\n",
      " ...\n",
      " [1 1 1 ... 1 0 1]\n",
      " [1 1 1 ... 1 1 0]\n",
      " [1 1 1 ... 1 1 1]]\n",
      "\n",
      " 17 qubits:\n",
      " [[0 0 0 ... 0 0 0]\n",
      " [0 0 0 ... 0 0 1]\n",
      " [0 0 0 ... 0 1 0]\n",
      " ...\n",
      " [1 1 1 ... 1 0 1]\n",
      " [1 1 1 ... 1 1 0]\n",
      " [1 1 1 ... 1 1 1]]\n"
     ]
    }
   ],
   "source": [
    "for N in range(2,18):\n",
    "\n",
    "    basis_Nqubits = binary_configurations(N)\n",
    "    print(f'\\n {N} qubits:\\n', basis_Nqubits)\n",
    "\n"
   ]
  },
  {
   "cell_type": "markdown",
   "id": "wired-blade",
   "metadata": {},
   "source": [
    "# Estados produto\n",
    "\n",
    "Vimos que estados produtos que permitem escrever a função de onda em termos dos estados individuais das partes do sistema.\n",
    "\n",
    "$$\n",
    "|\\Psi\\rangle = |\\psi_1\\rangle \\otimes |\\psi_2\\rangle \\otimes ... \\otimes ... |\\psi_N\\rangle \n",
    "$$\n",
    "\n",
    "E isso traz uma vantagem enorme porque:\n",
    "- toda a informação sobre o sistema pode ser obtida em termos de $D = Nd $ coeficientes ($d$ sendo a dimensão dos espaços de Hilbert onde $| \\psi_n \\rangle$ é definido), que é um número bem menor do que o caso geral que cresce exponencialmente com o tamanho $D = d^N $.\n",
    "- observáveis locais da parte $n$ só dependem de $|\\psi_n\\rangle$: $\\langle \\hat{O}_n\\rangle = \\langle \\psi_n | \\hat{O}_n|\\psi_n \\rangle $\n",
    "\n",
    "\n",
    "## Qubits\n",
    "No caso de qubits, invés de $2^N$ teremos $2N$ coeficiences. Para $N=4$ essa redução já é apreciável: de $256$ para $16$.\n",
    "\n",
    "Para $2$ qubits $a$ e $B$ nos estados $ |\\psi_{A}\\rangle = \\alpha_0^A |0\\rangle + \\alpha_1^A |1\\rangle$ e \n",
    "$ |\\psi_{B}\\rangle = \\alpha_0^B |0\\rangle + \\alpha_1^B |1\\rangle$, o estado composto será\n",
    "\n",
    "\n",
    "$$\n",
    "\\begin{align*}\n",
    "|\\Psi_{AB}\\rangle & = \n",
    "\\begin{pmatrix} \n",
    "\\alpha_0^A \\\\\n",
    "\\alpha_1^A\n",
    "\\end{pmatrix} \\otimes \n",
    "\\begin{pmatrix} \n",
    "\\alpha_0^B \\\\\n",
    "\\alpha_1^B\n",
    "\\end{pmatrix} & = \n",
    "\\begin{pmatrix} \n",
    "\\alpha_0^A \\alpha_0^B \\\\\n",
    "\\alpha_0^A \\alpha_1^B \\\\\n",
    "\\alpha_1^A \\alpha_0^B \\\\ \n",
    "\\alpha_1^A \\alpha_1^B\n",
    "\\end{pmatrix}\n",
    "\\end{align*}\n",
    "$$\n",
    "\n",
    "\n",
    "Para implementar o estado produto numericamente usando o numpy diretamente através da função \n",
    "```python \n",
    "np.kron(psi_A,psi_B)\n",
    "```\n",
    "\n",
    "\n",
    "No QuTip, se representamos o qubit como Qobj, o produto tensorial é implementado através da função \n",
    "```python \n",
    "qutip.tensor(psi_A,psi_B)\n",
    "```\n",
    "\n",
    "\n",
    "\n",
    "<br>\n",
    "\n",
    "Vamos considerar os exemplos da aula\n",
    "$$\n",
    "\\begin{align*}\n",
    "|\\psi_A\\rangle &= \\begin{pmatrix}\n",
    "1 \\\\\n",
    "0\n",
    "\\end{pmatrix} \\quad \\quad\n",
    "|\\psi_B\\rangle =\\begin{pmatrix}\n",
    "\\frac{1}{\\sqrt{2}} \\\\\n",
    "-\\frac{1}{\\sqrt{2}}\n",
    "\\end{pmatrix}\n",
    "\\end{align*}\n",
    "$$"
   ]
  },
  {
   "cell_type": "code",
   "execution_count": 4,
   "id": "classified-hospital",
   "metadata": {},
   "outputs": [
    {
     "name": "stdout",
     "output_type": "stream",
     "text": [
      "|Psi_AB> = \n",
      " [[ 0.        ]\n",
      " [-0.        ]\n",
      " [ 0.70710678]\n",
      " [-0.70710678]]\n"
     ]
    }
   ],
   "source": [
    "# exemplo numpy\n",
    "\n",
    "psi_A = np.array([0,1]).reshape(2,1)\n",
    "psi_B = 1./np.sqrt(2) * np.array([1,-1]).reshape(2,1)\n",
    "\n",
    "Psi_AB = np.kron(psi_A, psi_B)\n",
    "print(f'|Psi_AB> = \\n', Psi_AB)"
   ]
  },
  {
   "cell_type": "code",
   "execution_count": 5,
   "id": "verbal-decline",
   "metadata": {},
   "outputs": [
    {
     "name": "stdout",
     "output_type": "stream",
     "text": [
      "|Psi_AB> = \n",
      " Quantum object: dims = [[2, 2], [1, 1]], shape = (4, 1), type = ket\n",
      "Qobj data =\n",
      "[[ 0.        ]\n",
      " [ 0.        ]\n",
      " [ 0.70710678]\n",
      " [-0.70710678]]\n"
     ]
    }
   ],
   "source": [
    "# exemplo qutip\n",
    "import qutip\n",
    "zero = qutip.basis(2,0)\n",
    "one = qutip.basis(2,1)\n",
    "\n",
    "psi_A = one\n",
    "psi_B = 1./np.sqrt(2) * (zero - one)\n",
    "Psi_AB = qutip.tensor(psi_A, psi_B)\n",
    "print(f'|Psi_AB> = \\n', Psi_AB)"
   ]
  },
  {
   "cell_type": "code",
   "execution_count": null,
   "id": "white-python",
   "metadata": {},
   "outputs": [],
   "source": []
  },
  {
   "cell_type": "markdown",
   "id": "geographic-perth",
   "metadata": {},
   "source": [
    "# Estado emaranhado\n",
    "\n",
    "\n",
    "Estados que não podem ser escritos como produto são emaranhados! \n",
    "$$\n",
    "|\\Psi\\rangle \\neq |\\psi_1\\rangle \\otimes |\\psi_2\\rangle \\otimes ... \\otimes |\\psi_N\\rangle\n",
    "$$\n",
    "\n",
    "Um exemplo para dois qubits $A$ e $B$ é \n",
    "\\begin{align*}\n",
    "|\\Psi_{AB}\\rangle & = \\frac{1}{\\sqrt{2}}(|0_A 0_B\\rangle + |1_A 1_B\\rangle)\\\\\n",
    "& = \\frac{1}{\\sqrt{2}}(|00\\rangle +|11\\rangle) \\\\\n",
    "& = \\frac{1}{\\sqrt{2}}\\begin{pmatrix}\n",
    "1 \\\\ \n",
    "0 \\\\\n",
    "0 \\\\\n",
    "1\n",
    "\\end{pmatrix}\n",
    "\\end{align*}\n",
    "\n",
    "\n",
    "Vimos que existem $4$ estados maximamente emaranhados para $2$ qubits que compõe a base de Bell. O QuTip tem essa base prontinha para ser usada. E ele usa a seguinte notação \n",
    "```python \n",
    "qutip.bell_state(state='00')\n",
    "```\n",
    "\n",
    "onde a string que aparece para definir o estado segue a seguinte notação:\n",
    "\n",
    "$$\n",
    "\\begin{align*}\n",
    "\\ket{B_{00}} = \\ket{\\Phi^+} & = \\frac{1}{\\sqrt{2}}(\\ket{00} + \\ket{11})\\\\\n",
    "\\ket{B_{01}} = \\ket{\\Phi^-} & = \\frac{1}{\\sqrt{2}}(\\ket{00} - \\ket{11})\\\\\n",
    "\\ket{B_{10}} = \\ket{\\Psi^+} & = \\frac{1}{\\sqrt{2}}(\\ket{01} + \\ket{10})\\\\\n",
    "\\ket{B_{11}}= \\ket{\\Psi^-} & = \\frac{1}{\\sqrt{2}}(\\ket{01} - \\ket{01})\n",
    "\\end{align*}\n",
    "$$\n",
    "\n",
    "\n"
   ]
  },
  {
   "cell_type": "code",
   "execution_count": 6,
   "id": "brilliant-stopping",
   "metadata": {},
   "outputs": [
    {
     "name": "stdout",
     "output_type": "stream",
     "text": [
      "\n",
      " B_00\n"
     ]
    },
    {
     "data": {
      "text/latex": [
       "Quantum object: dims = [[2, 2], [1, 1]], shape = (4, 1), type = ket $ \\\\ \\left(\\begin{matrix}0.707\\\\0.0\\\\0.0\\\\0.707\\\\\\end{matrix}\\right)$"
      ],
      "text/plain": [
       "Quantum object: dims = [[2, 2], [1, 1]], shape = (4, 1), type = ket\n",
       "Qobj data =\n",
       "[[0.70710678]\n",
       " [0.        ]\n",
       " [0.        ]\n",
       " [0.70710678]]"
      ]
     },
     "execution_count": 6,
     "metadata": {},
     "output_type": "execute_result"
    }
   ],
   "source": [
    "Phi_p = qutip.bell_state('00')\n",
    "print('\\n B_00')\n",
    "Phi_p"
   ]
  },
  {
   "cell_type": "code",
   "execution_count": 7,
   "id": "instrumental-briefing",
   "metadata": {},
   "outputs": [
    {
     "name": "stdout",
     "output_type": "stream",
     "text": [
      "\n",
      " B_01\n"
     ]
    },
    {
     "data": {
      "text/latex": [
       "Quantum object: dims = [[2, 2], [1, 1]], shape = (4, 1), type = ket $ \\\\ \\left(\\begin{matrix}0.707\\\\0.0\\\\0.0\\\\-0.707\\\\\\end{matrix}\\right)$"
      ],
      "text/plain": [
       "Quantum object: dims = [[2, 2], [1, 1]], shape = (4, 1), type = ket\n",
       "Qobj data =\n",
       "[[ 0.70710678]\n",
       " [ 0.        ]\n",
       " [ 0.        ]\n",
       " [-0.70710678]]"
      ]
     },
     "execution_count": 7,
     "metadata": {},
     "output_type": "execute_result"
    }
   ],
   "source": [
    "Phi_m = qutip.bell_state('01')\n",
    "print('\\n B_01')\n",
    "Phi_m"
   ]
  },
  {
   "cell_type": "code",
   "execution_count": 8,
   "id": "passive-campaign",
   "metadata": {},
   "outputs": [
    {
     "name": "stdout",
     "output_type": "stream",
     "text": [
      "\n",
      " B_10 \n"
     ]
    },
    {
     "data": {
      "text/latex": [
       "Quantum object: dims = [[2, 2], [1, 1]], shape = (4, 1), type = ket $ \\\\ \\left(\\begin{matrix}0.0\\\\0.707\\\\0.707\\\\0.0\\\\\\end{matrix}\\right)$"
      ],
      "text/plain": [
       "Quantum object: dims = [[2, 2], [1, 1]], shape = (4, 1), type = ket\n",
       "Qobj data =\n",
       "[[0.        ]\n",
       " [0.70710678]\n",
       " [0.70710678]\n",
       " [0.        ]]"
      ]
     },
     "execution_count": 8,
     "metadata": {},
     "output_type": "execute_result"
    }
   ],
   "source": [
    "Psi_p = qutip.bell_state('10')\n",
    "print('\\n B_10 ')\n",
    "Psi_p"
   ]
  },
  {
   "cell_type": "code",
   "execution_count": 9,
   "id": "german-acrylic",
   "metadata": {},
   "outputs": [
    {
     "name": "stdout",
     "output_type": "stream",
     "text": [
      "\n",
      " B_11 \n"
     ]
    },
    {
     "data": {
      "text/latex": [
       "Quantum object: dims = [[2, 2], [1, 1]], shape = (4, 1), type = ket $ \\\\ \\left(\\begin{matrix}0.0\\\\0.707\\\\-0.707\\\\0.0\\\\\\end{matrix}\\right)$"
      ],
      "text/plain": [
       "Quantum object: dims = [[2, 2], [1, 1]], shape = (4, 1), type = ket\n",
       "Qobj data =\n",
       "[[ 0.        ]\n",
       " [ 0.70710678]\n",
       " [-0.70710678]\n",
       " [ 0.        ]]"
      ]
     },
     "execution_count": 9,
     "metadata": {},
     "output_type": "execute_result"
    }
   ],
   "source": [
    "Psi_m = qutip.bell_state('11')\n",
    "print('\\n B_11 ')\n",
    "Psi_m"
   ]
  },
  {
   "cell_type": "markdown",
   "id": "combined-madison",
   "metadata": {},
   "source": [
    "# Medidas conjuntas e separadas\n",
    "Vamos agora fazer uma medida de $\\hat{\\sigma}_z$ em cada um dos qubits e ver a diferença entre fazer as medidas uma seguida da outra ou uma medida conjunta. \n",
    "\n",
    "Consideremos que ao medir através de $\\hat{P}$, a função de onda colapsa\n",
    "$$\n",
    "\\ket{\\Psi'} = \\frac{\\hat{P} \\ket{\\psi}}{\\sqrt{\\Psi|\\hat{P}|\\Psi}}\n",
    ".$$\n",
    "\n",
    "\n",
    "## Exemplo: dois qubits em estados produto ou emaranhados\n",
    "\n",
    "\n",
    "Vimos que em estados emaranhados, ganha-se mais informação fazendo medidas separadas. \n",
    "\n",
    "Vamos, então considerar dois exemplos de estados para dois qubits $A$ e $B$ em que eles estão em estados produto ou estados emaranhados.\n",
    "\n",
    "No primeiro caso, tomemos o estado do qubit $A$ como $\\ket{0_A}$ e o estado do qubit $B$ como $\\ket{+_B} = \\frac{1}{\\sqrt{2}} (\\ket{0_B} + \\ket{1}_B)$. No segundo caso, teremos os qubits como o estado singleto $\\ket{\\Psi^-}$ da base de Bell.\n",
    "\n",
    "\n",
    "\n",
    "Para medir $\\hat{\\sigma}_z^A$ ou $\\hat{\\sigma}_z^B$ separadamente usamos os operadores\n",
    "\n",
    "$$\n",
    "\\hat{Z}_A = \\hat{\\sigma}_z^A \\otimes \\mathbb{I}_B\n",
    "$$\n",
    "\n",
    "$$\n",
    "\\hat{Z}_B = \\mathbb{I}_B \\otimes \\hat{\\sigma}_z^B\n",
    "$$\n",
    "\n",
    "\n",
    "Para fazer a medida conjunta \n",
    "\n",
    "$$\n",
    "\\hat{Z}_{AB} = \\hat{\\sigma}_z^A \\otimes \\hat{\\sigma}_z^B\n",
    "$$\n",
    "\n",
    "\n",
    "Veja que as medidas podem ter resultado $+1$ ou $-1$. Medindo várias vezes saberemos a probabilidade de obter cada um desses resultados, bem como o estado para o qual a função de onda vai colapsar. \n",
    "\n",
    "\n",
    "<br>\n",
    "\n",
    "O QuTip têm funções permitindo fazer a medida e obter os possíveis valores bem como estados colapsados. As funções ficam no módulo measurement.  A sintaxe é\n",
    "\n",
    "```python\n",
    "\n",
    "outcomes_measurement, collapsed_states, probabilities = qutip.measurement.measurement_statistics(state_operator, measurement_operator)\n",
    "```\n",
    "\n",
    "\n",
    "\n",
    "\n"
   ]
  },
  {
   "cell_type": "code",
   "execution_count": 10,
   "id": "bridal-template",
   "metadata": {},
   "outputs": [],
   "source": [
    "# o unit serve para normalizar a função\n",
    "plus = (zero+one).unit()"
   ]
  },
  {
   "cell_type": "code",
   "execution_count": 11,
   "id": "finished-vampire",
   "metadata": {},
   "outputs": [
    {
     "name": "stdout",
     "output_type": "stream",
     "text": [
      "AB produto\n"
     ]
    },
    {
     "data": {
      "text/latex": [
       "Quantum object: dims = [[2, 2], [1, 1]], shape = (4, 1), type = ket $ \\\\ \\left(\\begin{matrix}0.707\\\\0.707\\\\0.0\\\\0.0\\\\\\end{matrix}\\right)$"
      ],
      "text/plain": [
       "Quantum object: dims = [[2, 2], [1, 1]], shape = (4, 1), type = ket\n",
       "Qobj data =\n",
       "[[0.70710678]\n",
       " [0.70710678]\n",
       " [0.        ]\n",
       " [0.        ]]"
      ]
     },
     "execution_count": 11,
     "metadata": {},
     "output_type": "execute_result"
    }
   ],
   "source": [
    "# estado produto\n",
    "Psi_AB_produto = qutip.tensor(zero, plus)\n",
    "print('AB produto')\n",
    "Psi_AB_produto"
   ]
  },
  {
   "cell_type": "code",
   "execution_count": 12,
   "id": "graduate-couple",
   "metadata": {},
   "outputs": [
    {
     "name": "stdout",
     "output_type": "stream",
     "text": [
      "AB emaranhado\n"
     ]
    },
    {
     "data": {
      "text/latex": [
       "Quantum object: dims = [[2, 2], [1, 1]], shape = (4, 1), type = ket $ \\\\ \\left(\\begin{matrix}0.0\\\\0.707\\\\-0.707\\\\0.0\\\\\\end{matrix}\\right)$"
      ],
      "text/plain": [
       "Quantum object: dims = [[2, 2], [1, 1]], shape = (4, 1), type = ket\n",
       "Qobj data =\n",
       "[[ 0.        ]\n",
       " [ 0.70710678]\n",
       " [-0.70710678]\n",
       " [ 0.        ]]"
      ]
     },
     "execution_count": 12,
     "metadata": {},
     "output_type": "execute_result"
    }
   ],
   "source": [
    "# estado emaranhado \n",
    "Psi_AB_emaranhado = Psi_m\n",
    "print('AB emaranhado')\n",
    "Psi_AB_emaranhado "
   ]
  },
  {
   "cell_type": "code",
   "execution_count": 13,
   "id": "laughing-cargo",
   "metadata": {},
   "outputs": [],
   "source": [
    "# medidas individuais\n",
    "Z_A = qutip.tensor(qutip.sigmaz(), qutip.qeye(2))\n",
    "Z_B = qutip.tensor(qutip.qeye(2), qutip.sigmaz())\n",
    "\n",
    "# medidas conjuntas\n",
    "Z_AB = qutip.tensor(qutip.sigmaz(), qutip.sigmaz())\n"
   ]
  },
  {
   "cell_type": "code",
   "execution_count": 14,
   "id": "honey-quantity",
   "metadata": {},
   "outputs": [],
   "source": [
    "# estado produto \n",
    "# fazendo as medidas separadas \n",
    "ZA_outcomesP, ZA_collapsedP, ZA_probabilitiesP = qutip.measurement.measurement_statistics_observable(Psi_AB_produto, Z_A)\n",
    "ZB_outcomesP, ZB_collapsedP, ZB_probabilitiesP = qutip.measurement.measurement_statistics_observable(Psi_AB_produto, Z_B)\n",
    "\n",
    "# fazendo a medida conjunta \n",
    "ZAB_outcomesP, ZAB_collapsedP, ZAB_probabilitiesP = qutip.measurement.measurement_statistics_observable(Psi_AB_produto, Z_AB)\n"
   ]
  },
  {
   "cell_type": "code",
   "execution_count": 15,
   "id": "vertical-montreal",
   "metadata": {},
   "outputs": [
    {
     "name": "stdout",
     "output_type": "stream",
     "text": [
      "estado produto\n",
      "\n",
      " qubit A\n",
      "outcomes [-1. -1.  1.  1.]\n",
      "probabilidades [0, 0, 0.4999999999999999, 0.4999999999999999]\n",
      "\n",
      " medida = -1.0, probabilidade = 0\n",
      "estado colapsado =  [[0.+0.j]\n",
      " [0.+0.j]\n",
      " [1.+0.j]\n",
      " [0.+0.j]]\n",
      "\n",
      " medida = -1.0, probabilidade = 0\n",
      "estado colapsado =  [[0.+0.j]\n",
      " [0.+0.j]\n",
      " [0.+0.j]\n",
      " [1.+0.j]]\n",
      "\n",
      " medida = 1.0, probabilidade = 0.4999999999999999\n",
      "estado colapsado =  [[1.+0.j]\n",
      " [0.+0.j]\n",
      " [0.+0.j]\n",
      " [0.+0.j]]\n",
      "\n",
      " medida = 1.0, probabilidade = 0.4999999999999999\n",
      "estado colapsado =  [[0.+0.j]\n",
      " [1.+0.j]\n",
      " [0.+0.j]\n",
      " [0.+0.j]]\n",
      "\n",
      " qubit B \n",
      "\n",
      "outcomes [-1. -1.  1.  1.]\n",
      "probabilidades [0.4999999999999999, 0, 0.4999999999999999, 0]\n",
      "\n",
      " medida = -1.0, probabilidade = 0.4999999999999999\n",
      "estado colapsado =  [[0.+0.j]\n",
      " [1.+0.j]\n",
      " [0.+0.j]\n",
      " [0.+0.j]]\n",
      "\n",
      " medida = -1.0, probabilidade = 0\n",
      "estado colapsado =  [[0.+0.j]\n",
      " [0.+0.j]\n",
      " [0.+0.j]\n",
      " [1.+0.j]]\n",
      "\n",
      " medida = 1.0, probabilidade = 0.4999999999999999\n",
      "estado colapsado =  [[1.+0.j]\n",
      " [0.+0.j]\n",
      " [0.+0.j]\n",
      " [0.+0.j]]\n",
      "\n",
      " medida = 1.0, probabilidade = 0\n",
      "estado colapsado =  [[0.+0.j]\n",
      " [0.+0.j]\n",
      " [1.+0.j]\n",
      " [0.+0.j]]\n",
      "\n",
      " qubits AB \n",
      "\n",
      "outcomes [-1. -1.  1.  1.]\n",
      "probabilidades [0.4999999999999999, 0, 0.4999999999999999, 0]\n",
      "\n",
      " medida = -1.0, probabilidade = 0.4999999999999999\n",
      "estado colapsado =  [[0.+0.j]\n",
      " [1.+0.j]\n",
      " [0.+0.j]\n",
      " [0.+0.j]]\n",
      "\n",
      " medida = -1.0, probabilidade = 0\n",
      "estado colapsado =  [[0.+0.j]\n",
      " [0.+0.j]\n",
      " [1.+0.j]\n",
      " [0.+0.j]]\n",
      "\n",
      " medida = 1.0, probabilidade = 0.4999999999999999\n",
      "estado colapsado =  [[1.+0.j]\n",
      " [0.+0.j]\n",
      " [0.+0.j]\n",
      " [0.+0.j]]\n",
      "\n",
      " medida = 1.0, probabilidade = 0\n",
      "estado colapsado =  [[0.+0.j]\n",
      " [0.+0.j]\n",
      " [0.+0.j]\n",
      " [1.+0.j]]\n"
     ]
    }
   ],
   "source": [
    "print('estado produto')\n",
    "print('\\n qubit A')\n",
    "\n",
    "print('outcomes', ZA_outcomesP)\n",
    "print('probabilidades', ZA_probabilitiesP)\n",
    "for ia, za in enumerate(ZA_outcomesP):\n",
    "    print(f'\\n medida = {za}, probabilidade = {ZA_probabilitiesP[ia]}')\n",
    "    print('estado colapsado = ', ZA_collapsedP[ia].full())\n",
    "\n",
    "\n",
    "print('\\n qubit B \\n')\n",
    "print('outcomes', ZB_outcomesP)\n",
    "print('probabilidades', ZB_probabilitiesP)\n",
    "for ib, zb in enumerate(ZB_outcomesP):\n",
    "    print(f'\\n medida = {zb}, probabilidade = {ZB_probabilitiesP[ib]}')\n",
    "    print('estado colapsado = ', ZB_collapsedP[ib].full())\n",
    "\n",
    "\n",
    "print('\\n qubits AB \\n')\n",
    "print('outcomes', ZAB_outcomesP)\n",
    "print('probabilidades', ZAB_probabilitiesP)\n",
    "for iab, zab in enumerate(ZAB_outcomesP):\n",
    "    print(f'\\n medida = {zab}, probabilidade = {ZAB_probabilitiesP[iab]}')\n",
    "    print('estado colapsado = ', ZAB_collapsedP[iab].full())\n"
   ]
  },
  {
   "cell_type": "code",
   "execution_count": 16,
   "id": "least-mason",
   "metadata": {},
   "outputs": [],
   "source": [
    "# estado emaranhado\n",
    "# fazendo as medidas separadas \n",
    "ZA_outcomesE, ZA_collapsedE, ZA_probabilitiesE = qutip.measurement.measurement_statistics_observable(Psi_AB_emaranhado, Z_A)\n",
    "ZB_outcomesE, ZB_collapsedE, ZB_probabilitiesE = qutip.measurement.measurement_statistics_observable(Psi_AB_emaranhado, Z_B)\n",
    "\n",
    "# fazendo a medida conjunta \n",
    "ZAB_outcomesE, ZAB_collapsedE, ZAB_probabilitiesE = qutip.measurement.measurement_statistics_observable(Psi_AB_emaranhado, Z_AB)\n"
   ]
  },
  {
   "cell_type": "code",
   "execution_count": 17,
   "id": "velvet-ready",
   "metadata": {},
   "outputs": [
    {
     "name": "stdout",
     "output_type": "stream",
     "text": [
      "estado emaranhado\n",
      "\n",
      " qubit A\n",
      "outcomes [-1. -1.  1.  1.]\n",
      "probabilidades [0.4999999999999999, 0, 0, 0.4999999999999999]\n",
      "\n",
      " medida = -1.0, probabilidade = 0.4999999999999999\n",
      "estado colapsado =  [[0.+0.j]\n",
      " [0.+0.j]\n",
      " [1.+0.j]\n",
      " [0.+0.j]]\n",
      "\n",
      " medida = -1.0, probabilidade = 0\n",
      "estado colapsado =  [[0.+0.j]\n",
      " [0.+0.j]\n",
      " [0.+0.j]\n",
      " [1.+0.j]]\n",
      "\n",
      " medida = 1.0, probabilidade = 0\n",
      "estado colapsado =  [[1.+0.j]\n",
      " [0.+0.j]\n",
      " [0.+0.j]\n",
      " [0.+0.j]]\n",
      "\n",
      " medida = 1.0, probabilidade = 0.4999999999999999\n",
      "estado colapsado =  [[0.+0.j]\n",
      " [1.+0.j]\n",
      " [0.+0.j]\n",
      " [0.+0.j]]\n",
      "\n",
      " qubit B \n",
      "\n",
      "outcomes [-1. -1.  1.  1.]\n",
      "probabilidades [0.4999999999999999, 0, 0, 0.4999999999999999]\n",
      "\n",
      " medida = -1.0, probabilidade = 0.4999999999999999\n",
      "estado colapsado =  [[0.+0.j]\n",
      " [1.+0.j]\n",
      " [0.+0.j]\n",
      " [0.+0.j]]\n",
      "\n",
      " medida = -1.0, probabilidade = 0\n",
      "estado colapsado =  [[0.+0.j]\n",
      " [0.+0.j]\n",
      " [0.+0.j]\n",
      " [1.+0.j]]\n",
      "\n",
      " medida = 1.0, probabilidade = 0\n",
      "estado colapsado =  [[1.+0.j]\n",
      " [0.+0.j]\n",
      " [0.+0.j]\n",
      " [0.+0.j]]\n",
      "\n",
      " medida = 1.0, probabilidade = 0.4999999999999999\n",
      "estado colapsado =  [[0.+0.j]\n",
      " [0.+0.j]\n",
      " [1.+0.j]\n",
      " [0.+0.j]]\n",
      "\n",
      " qubits AB \n",
      "\n",
      "outcomes [-1. -1.  1.  1.]\n",
      "probabilidades [0.4999999999999999, 0.4999999999999999, 0, 0]\n",
      "\n",
      " medida = -1.0, probabilidade = 0.4999999999999999\n",
      "estado colapsado =  [[0.+0.j]\n",
      " [1.+0.j]\n",
      " [0.+0.j]\n",
      " [0.+0.j]]\n",
      "\n",
      " medida = -1.0, probabilidade = 0.4999999999999999\n",
      "estado colapsado =  [[0.+0.j]\n",
      " [0.+0.j]\n",
      " [1.+0.j]\n",
      " [0.+0.j]]\n",
      "\n",
      " medida = 1.0, probabilidade = 0\n",
      "estado colapsado =  [[1.+0.j]\n",
      " [0.+0.j]\n",
      " [0.+0.j]\n",
      " [0.+0.j]]\n",
      "\n",
      " medida = 1.0, probabilidade = 0\n",
      "estado colapsado =  [[0.+0.j]\n",
      " [0.+0.j]\n",
      " [0.+0.j]\n",
      " [1.+0.j]]\n"
     ]
    }
   ],
   "source": [
    "print('estado emaranhado')\n",
    "print('\\n qubit A')\n",
    "\n",
    "print('outcomes', ZA_outcomesE)\n",
    "print('probabilidades', ZA_probabilitiesE)\n",
    "for ia, za in enumerate(ZA_outcomesE):\n",
    "    print(f'\\n medida = {za}, probabilidade = {ZA_probabilitiesE[ia]}')\n",
    "    print('estado colapsado = ', ZA_collapsedE[ia].full())\n",
    "\n",
    "\n",
    "print('\\n qubit B \\n')\n",
    "print('outcomes', ZB_outcomesE)\n",
    "print('probabilidades', ZB_probabilitiesE)\n",
    "for ib, zb in enumerate(ZB_outcomesE):\n",
    "    print(f'\\n medida = {zb}, probabilidade = {ZB_probabilitiesE[ib]}')\n",
    "    print('estado colapsado = ', ZB_collapsedE[ib].full())\n",
    "\n",
    "\n",
    "print('\\n qubits AB \\n')\n",
    "print('outcomes', ZAB_outcomesE)\n",
    "print('probabilidades', ZAB_probabilitiesE)\n",
    "for iab, zab in enumerate(ZAB_outcomesE):\n",
    "    print(f'\\n medida = {zab}, probabilidade = {ZAB_probabilitiesE[iab]}')\n",
    "    print('estado colapsado = ', ZAB_collapsedE[iab].full())\n"
   ]
  },
  {
   "cell_type": "markdown",
   "id": "derived-dinner",
   "metadata": {},
   "source": [
    "# Geradores de emaranhamento\n",
    "\n",
    "Os estados da base de Bell podem ser gerados a partir de duas portas lógicas (ou <i> gates </i>): Hadamard e CNOT.\n",
    "\n",
    "Esses gates são definidos a seguir. Hadamard é\n",
    "$$\n",
    "\\begin{align*}\\hat{H}_g = \\frac{1}{\\sqrt{2}}\\begin{pmatrix}\n",
    "1 & 1 \\\\ \n",
    "1 & -1\n",
    "\\end{pmatrix}\n",
    "\\end{align*}\n",
    "$$\n",
    "\n",
    "CNOT é\n",
    "$$\n",
    "\\begin{align*}\n",
    "\\hat{U}_{\\text{CNOT}} = \\begin{pmatrix}\n",
    "1 & 0 & 0 & 0 \\\\\n",
    "0 & 1 & 0 & 0 \\\\\n",
    "0 & 0 & 0 & 1 \\\\\n",
    "0 & 0 & 1 & 0\n",
    "\\end{pmatrix}\n",
    "\\end{align*}\n",
    "$$\n",
    "\n",
    "O QuTip tem esses gates implementados no submodulo gates. O gate Hadamard é chamado snot. \n",
    "\n",
    "```python3 \n",
    " from qutip.qip.operations.gates import cnot as gate_CNOT\n",
    " from qutip.qip.operations.gates import cnot as gate_Hadamard\n",
    " ```\n",
    "\n",
    "\n",
    "Vimos que partindo de dois qubits inicializados em $\\ket{00}$ sempre poderemos construir a base de Bell usando esses dois gates e $\\hat{\\sigma}_x$ para flipar um dos qubits.\n",
    "\n",
    "\n",
    "$$\n",
    "\\begin{align*}\n",
    "\\ket{00} & \\rightarrow{\\quad \\hat{H}_A\\quad } \\frac{1}{\\sqrt{2}} (\\ket{00}+\\ket{10})\\rightarrow{\\quad  \\hat{U}_{\\text{CNOT}}  \\quad }\n",
    " \\frac{1}{\\sqrt{2}} (\\ket{00}+\\ket{11}) = \\ket{\\Phi^+}\n",
    "\\end{align*}\n",
    "$$\n",
    "\n",
    "$$\n",
    "\\begin{align*}\n",
    "\\ket{00} & \\xrightarrow{\\quad \\hat{\\sigma}_x^B \\quad }  \\ket{01}\\xrightarrow{\\quad \\hat{H}_A\\quad } \\frac{1}{\\sqrt{2}} (\\ket{01}+\\ket{11})\\xrightarrow{\\quad  \\hat{U}_{\\text{CNOT}}  \\quad }\n",
    " \\frac{1}{\\sqrt{2}} (\\ket{01}+\\ket{10}) = \\ket{\\Psi^+}\n",
    "\\end{align*}\n",
    "$$\n",
    "\n",
    "$$\n",
    "\\begin{align*}\n",
    "\\ket{00} & \\xrightarrow{\\quad \\hat{\\sigma}_x^A \\quad }  \\ket{10}\\xrightarrow{\\quad \\hat{H}_A\\quad } \\frac{1}{\\sqrt{2}} (\\ket{00}-\\ket{10})\\xrightarrow{\\quad  \\hat{U}_{\\text{CNOT}}  \\quad }\n",
    " \\frac{1}{\\sqrt{2}} (\\ket{00}-\\ket{11}) = \\ket{\\Phi^-}\n",
    "\\end{align*}\n",
    "$$\n",
    "\n",
    "\n",
    "\n",
    "$$\n",
    "\\begin{align*}\n",
    "\\ket{00} & \\xrightarrow{\\quad \\hat{\\sigma}_x^A \\quad }  \\ket{10}\n",
    "\\xrightarrow{\\quad \\hat{\\sigma}_x^B \\quad }  \\ket{11}\n",
    "\\xrightarrow{\\quad \\hat{H}_A\\quad } \\frac{1}{\\sqrt{2}} (\\ket{01}-\\ket{11})\\xrightarrow{\\quad  \\hat{U}_{\\text{CNOT}}  \\quad }\n",
    " \\frac{1}{\\sqrt{2}} (\\ket{01}-\\ket{10}) = \\ket{\\Psi^-}\n",
    "\\end{align*}\n",
    "$$\n",
    "\n",
    "Vamos fazer essa implementação \"classicamente\" a seguir.\n",
    "\n"
   ]
  },
  {
   "cell_type": "code",
   "execution_count": 18,
   "id": "arbitrary-yeast",
   "metadata": {},
   "outputs": [
    {
     "data": {
      "text/latex": [
       "Quantum object: dims = [[2, 2], [2, 2]], shape = (4, 4), type = oper, isherm = True $ \\\\ \\left(\\begin{matrix}1.0 & 0.0 & 0.0 & 0.0\\\\0.0 & 1.0 & 0.0 & 0.0\\\\0.0 & 0.0 & 0.0 & 1.0\\\\0.0 & 0.0 & 1.0 & 0.0\\\\\\end{matrix}\\right)$"
      ],
      "text/plain": [
       "Quantum object: dims = [[2, 2], [2, 2]], shape = (4, 4), type = oper, isherm = True\n",
       "Qobj data =\n",
       "[[1. 0. 0. 0.]\n",
       " [0. 1. 0. 0.]\n",
       " [0. 0. 0. 1.]\n",
       " [0. 0. 1. 0.]]"
      ]
     },
     "execution_count": 18,
     "metadata": {},
     "output_type": "execute_result"
    }
   ],
   "source": [
    "# importando os gates\n",
    "from qutip.qip.operations.gates import cnot as gate_CNOT\n",
    "gate_CNOT()"
   ]
  },
  {
   "cell_type": "code",
   "execution_count": 19,
   "id": "prescribed-smoke",
   "metadata": {},
   "outputs": [
    {
     "data": {
      "text/latex": [
       "Quantum object: dims = [[2], [2]], shape = (2, 2), type = oper, isherm = True $ \\\\ \\left(\\begin{matrix}0.707 & 0.707\\\\0.707 & -0.707\\\\\\end{matrix}\\right)$"
      ],
      "text/plain": [
       "Quantum object: dims = [[2], [2]], shape = (2, 2), type = oper, isherm = True\n",
       "Qobj data =\n",
       "[[ 0.70710678  0.70710678]\n",
       " [ 0.70710678 -0.70710678]]"
      ]
     },
     "execution_count": 19,
     "metadata": {},
     "output_type": "execute_result"
    }
   ],
   "source": [
    "from qutip.qip.operations.gates import snot as gate_Hadamard\n",
    "gate_Hadamard()"
   ]
  },
  {
   "cell_type": "code",
   "execution_count": 20,
   "id": "lovely-canadian",
   "metadata": {},
   "outputs": [
    {
     "data": {
      "text/latex": [
       "Quantum object: dims = [[2, 2], [1, 1]], shape = (4, 1), type = ket $ \\\\ \\left(\\begin{matrix}1.0\\\\0.0\\\\0.0\\\\0.0\\\\\\end{matrix}\\right)$"
      ],
      "text/plain": [
       "Quantum object: dims = [[2, 2], [1, 1]], shape = (4, 1), type = ket\n",
       "Qobj data =\n",
       "[[1.]\n",
       " [0.]\n",
       " [0.]\n",
       " [0.]]"
      ]
     },
     "execution_count": 20,
     "metadata": {},
     "output_type": "execute_result"
    }
   ],
   "source": [
    "# inicializando os qubits em 00\n",
    "\n",
    "qinit_AB = qutip.tensor(zero,zero)\n",
    "qinit_AB"
   ]
  },
  {
   "cell_type": "code",
   "execution_count": 21,
   "id": "north-pressure",
   "metadata": {},
   "outputs": [
    {
     "data": {
      "text/latex": [
       "Quantum object: dims = [[2, 2], [2, 2]], shape = (4, 4), type = oper, isherm = True $ \\\\ \\left(\\begin{matrix}0.707 & 0.0 & 0.707 & 0.0\\\\0.0 & 0.707 & 0.0 & 0.707\\\\0.707 & 0.0 & -0.707 & 0.0\\\\0.0 & 0.707 & 0.0 & -0.707\\\\\\end{matrix}\\right)$"
      ],
      "text/plain": [
       "Quantum object: dims = [[2, 2], [2, 2]], shape = (4, 4), type = oper, isherm = True\n",
       "Qobj data =\n",
       "[[ 0.70710678  0.          0.70710678  0.        ]\n",
       " [ 0.          0.70710678  0.          0.70710678]\n",
       " [ 0.70710678  0.         -0.70710678  0.        ]\n",
       " [ 0.          0.70710678  0.         -0.70710678]]"
      ]
     },
     "execution_count": 21,
     "metadata": {},
     "output_type": "execute_result"
    }
   ],
   "source": [
    "# local Hadamard em A\n",
    "H_A = qutip.tensor(gate_Hadamard(), qutip.qeye(2))\n",
    "H_A\n",
    "\n"
   ]
  },
  {
   "cell_type": "code",
   "execution_count": 24,
   "id": "modified-question",
   "metadata": {},
   "outputs": [
    {
     "data": {
      "text/latex": [
       "Quantum object: dims = [[2, 2], [2, 2]], shape = (4, 4), type = oper, isherm = True $ \\\\ \\left(\\begin{matrix}0.0 & 0.0 & 1.0 & 0.0\\\\0.0 & 0.0 & 0.0 & 1.0\\\\1.0 & 0.0 & 0.0 & 0.0\\\\0.0 & 1.0 & 0.0 & 0.0\\\\\\end{matrix}\\right)$"
      ],
      "text/plain": [
       "Quantum object: dims = [[2, 2], [2, 2]], shape = (4, 4), type = oper, isherm = True\n",
       "Qobj data =\n",
       "[[0. 0. 1. 0.]\n",
       " [0. 0. 0. 1.]\n",
       " [1. 0. 0. 0.]\n",
       " [0. 1. 0. 0.]]"
      ]
     },
     "execution_count": 24,
     "metadata": {},
     "output_type": "execute_result"
    }
   ],
   "source": [
    "# local sx em A\n",
    "X_A = qutip.tensor(qutip.sigmax(), qutip.qeye(2))\n",
    "X_A"
   ]
  },
  {
   "cell_type": "code",
   "execution_count": 28,
   "id": "mighty-kruger",
   "metadata": {},
   "outputs": [
    {
     "data": {
      "text/latex": [
       "Quantum object: dims = [[2, 2], [2, 2]], shape = (4, 4), type = oper, isherm = True $ \\\\ \\left(\\begin{matrix}0.0 & 1.0 & 0.0 & 0.0\\\\1.0 & 0.0 & 0.0 & 0.0\\\\0.0 & 0.0 & 0.0 & 1.0\\\\0.0 & 0.0 & 1.0 & 0.0\\\\\\end{matrix}\\right)$"
      ],
      "text/plain": [
       "Quantum object: dims = [[2, 2], [2, 2]], shape = (4, 4), type = oper, isherm = True\n",
       "Qobj data =\n",
       "[[0. 1. 0. 0.]\n",
       " [1. 0. 0. 0.]\n",
       " [0. 0. 0. 1.]\n",
       " [0. 0. 1. 0.]]"
      ]
     },
     "execution_count": 28,
     "metadata": {},
     "output_type": "execute_result"
    }
   ],
   "source": [
    "# local sx em B\n",
    "X_B = qutip.tensor(qutip.qeye(2), qutip.sigmax())\n",
    "X_B"
   ]
  },
  {
   "cell_type": "code",
   "execution_count": 22,
   "id": "disciplinary-blues",
   "metadata": {},
   "outputs": [
    {
     "data": {
      "text/latex": [
       "Quantum object: dims = [[2, 2], [1, 1]], shape = (4, 1), type = ket $ \\\\ \\left(\\begin{matrix}0.707\\\\0.0\\\\0.0\\\\0.707\\\\\\end{matrix}\\right)$"
      ],
      "text/plain": [
       "Quantum object: dims = [[2, 2], [1, 1]], shape = (4, 1), type = ket\n",
       "Qobj data =\n",
       "[[0.70710678]\n",
       " [0.        ]\n",
       " [0.        ]\n",
       " [0.70710678]]"
      ]
     },
     "execution_count": 22,
     "metadata": {},
     "output_type": "execute_result"
    }
   ],
   "source": [
    "Bg_00 = gate_CNOT() * H_A * qinit_AB\n",
    "Bg_00"
   ]
  },
  {
   "cell_type": "code",
   "execution_count": 29,
   "id": "improved-destiny",
   "metadata": {},
   "outputs": [
    {
     "data": {
      "text/latex": [
       "Quantum object: dims = [[2, 2], [1, 1]], shape = (4, 1), type = ket $ \\\\ \\left(\\begin{matrix}0.0\\\\0.707\\\\0.707\\\\0.0\\\\\\end{matrix}\\right)$"
      ],
      "text/plain": [
       "Quantum object: dims = [[2, 2], [1, 1]], shape = (4, 1), type = ket\n",
       "Qobj data =\n",
       "[[0.        ]\n",
       " [0.70710678]\n",
       " [0.70710678]\n",
       " [0.        ]]"
      ]
     },
     "execution_count": 29,
     "metadata": {},
     "output_type": "execute_result"
    }
   ],
   "source": [
    "Bg_01 = gate_CNOT() * H_A * X_B * qinit_AB\n",
    "Bg_01"
   ]
  },
  {
   "cell_type": "code",
   "execution_count": 30,
   "id": "dietary-progress",
   "metadata": {},
   "outputs": [
    {
     "data": {
      "text/latex": [
       "Quantum object: dims = [[2, 2], [1, 1]], shape = (4, 1), type = ket $ \\\\ \\left(\\begin{matrix}0.0\\\\0.707\\\\-0.707\\\\0.0\\\\\\end{matrix}\\right)$"
      ],
      "text/plain": [
       "Quantum object: dims = [[2, 2], [1, 1]], shape = (4, 1), type = ket\n",
       "Qobj data =\n",
       "[[ 0.        ]\n",
       " [ 0.70710678]\n",
       " [-0.70710678]\n",
       " [ 0.        ]]"
      ]
     },
     "execution_count": 30,
     "metadata": {},
     "output_type": "execute_result"
    }
   ],
   "source": [
    "Bg_10 = gate_CNOT() * H_A * X_B * X_A * qinit_AB\n",
    "Bg_10"
   ]
  },
  {
   "cell_type": "code",
   "execution_count": 31,
   "id": "extended-specialist",
   "metadata": {},
   "outputs": [
    {
     "data": {
      "text/latex": [
       "Quantum object: dims = [[2, 2], [1, 1]], shape = (4, 1), type = ket $ \\\\ \\left(\\begin{matrix}0.707\\\\0.0\\\\0.0\\\\-0.707\\\\\\end{matrix}\\right)$"
      ],
      "text/plain": [
       "Quantum object: dims = [[2, 2], [1, 1]], shape = (4, 1), type = ket\n",
       "Qobj data =\n",
       "[[ 0.70710678]\n",
       " [ 0.        ]\n",
       " [ 0.        ]\n",
       " [-0.70710678]]"
      ]
     },
     "execution_count": 31,
     "metadata": {},
     "output_type": "execute_result"
    }
   ],
   "source": [
    "Bg_11 = gate_CNOT() * H_A * X_A * qinit_AB\n",
    "Bg_11"
   ]
  },
  {
   "cell_type": "markdown",
   "id": "official-cyprus",
   "metadata": {},
   "source": [
    "## Emaranhamento por dinâmica\n",
    "\n",
    "O operador $\\hat{Z}_{AB}$ que pode ser usado como uma medida para saber se os estados dos qubits coincidem, quando visto como interação é, na verdade, um gerador de emaranhamento. \n",
    "\n",
    "Para apreciar este fato, podemos tomar como exemplo dois qubits  inicializados em um estado produto\n",
    "\n",
    "$$ \\ket{\\Psi}_{AB} = \\ket{\\psi_A} \\otimes \\ket{\\psi_B}$$\n",
    "\n",
    "ortonal a qualquer um dos estados da base de Bell e evoluí-lo através do Hamiltoniano \n",
    "\n",
    "$$\\hat{H} = \\frac{\\omega_A}{2} \\hat{\\sigma}_A \n",
    "+ \\frac{\\omega_B}{2} \\hat{\\sigma}_B +\n",
    "+  g \\hat{\\sigma}_z^B \\otimes \\hat{\\sigma}_B\n",
    "$$\n",
    "\n",
    "e medirmos a projeção do estado evoluído na base de Bell. "
   ]
  },
  {
   "cell_type": "code",
   "execution_count": null,
   "id": "loaded-evolution",
   "metadata": {},
   "outputs": [],
   "source": []
  }
 ],
 "metadata": {
  "kernelspec": {
   "display_name": "Python 3 (ipykernel)",
   "language": "python",
   "name": "python3"
  },
  "language_info": {
   "codemirror_mode": {
    "name": "ipython",
    "version": 3
   },
   "file_extension": ".py",
   "mimetype": "text/x-python",
   "name": "python",
   "nbconvert_exporter": "python",
   "pygments_lexer": "ipython3",
   "version": "3.9.19"
  }
 },
 "nbformat": 4,
 "nbformat_minor": 5
}
