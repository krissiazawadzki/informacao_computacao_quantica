{
 "cells": [
  {
   "cell_type": "markdown",
   "id": "d679a44d",
   "metadata": {},
   "source": [
    "# Exemplos para o operador densidade\n",
    "\n",
    "## Sistema de dois níveis\n",
    "\n",
    "Vamos definir os estados fundamental $$|0\\rangle = \\begin{pmatrix} 1 \\\\ 0\\end{pmatrix}$$ e excitado $$|1\\rangle = \\begin{pmatrix} 0 \\\\ 1\\end{pmatrix}$$\n"
   ]
  },
  {
   "cell_type": "code",
   "execution_count": 1,
   "id": "d46a3073",
   "metadata": {},
   "outputs": [],
   "source": [
    "# numpy, a biblioteca útil para operações com vetores e matrizes\n",
    "import numpy as np\n",
    "\n",
    "zero = np.array([1,0]).reshape(2,1)\n",
    "one = np.array([0,1]).reshape(2,1)"
   ]
  },
  {
   "cell_type": "markdown",
   "id": "121d7e14",
   "metadata": {},
   "source": [
    "### Mistura de estados puros sem transições\n",
    "\n",
    "Consideremos primeiro uma mistura sem transições com peso $1-\\epsilon$ para o fundamental e $\\epsilon$ para o excitado:\n",
    "\n",
    "$$\\hat{\\rho} = (1-\\epsilon) | 0 \\rangle \\langle 0| + \\epsilon | 1 \\rangle \\langle 1|$$\n",
    "\n",
    "Com o numpy, para dois estados $| a \\rangle$ e $| b \\rangle$ que são numpy arrays, construir o ket-bra $| a \\rangle \\langle b |$ é fácil usando o np.outer(a,b.conjugate()). Note que precisamos o vetor que vem no bra!"
   ]
  },
  {
   "cell_type": "code",
   "execution_count": 14,
   "id": "6780982d",
   "metadata": {},
   "outputs": [
    {
     "name": "stdout",
     "output_type": "stream",
     "text": [
      "rho:\n",
      " [[0.9 0. ]\n",
      " [0.  0.1]]\n"
     ]
    }
   ],
   "source": [
    "epsilon = 0.1\n",
    "rho1 = (1 - epsilon) * np.outer(zero, zero.conjugate()) + epsilon * np.outer(one, one.conjugate())\n",
    "\n",
    "# matrix abaixo\n",
    "print('rho:\\n', rho1)"
   ]
  },
  {
   "cell_type": "markdown",
   "id": "d430d146",
   "metadata": {},
   "source": [
    "### Estado puro que é combinação \n",
    "\n",
    "Consideremos a combinação $| 0 \\rangle$ e $| 1 \\rangle$ com probabilidades $(1-\\epsilon)$ e $\\epsilon$\n",
    "$$ | \\psi\\rangle = \\sqrt{1-\\epsilon}| 0 \\rangle + \\sqrt{\\epsilon} | 1 \\rangle$$\n"
   ]
  },
  {
   "cell_type": "code",
   "execution_count": 15,
   "id": "8ddf531b",
   "metadata": {},
   "outputs": [
    {
     "name": "stdout",
     "output_type": "stream",
     "text": [
      "psi:\n",
      " [[0.9486833 ]\n",
      " [0.31622777]]\n"
     ]
    }
   ],
   "source": [
    "psi1 = np.sqrt(1-epsilon) * zero + np.sqrt(epsilon) * one\n",
    "\n",
    "# estado \n",
    "print('psi:\\n', psi1)"
   ]
  },
  {
   "cell_type": "markdown",
   "id": "526390dc",
   "metadata": {},
   "source": [
    "Seja $$\\hat{\\rho} = | \\psi \\rangle \\langle \\psi|$$"
   ]
  },
  {
   "cell_type": "code",
   "execution_count": 12,
   "id": "bda26202",
   "metadata": {},
   "outputs": [
    {
     "name": "stdout",
     "output_type": "stream",
     "text": [
      "produto: \n",
      " [[0.9 0.3]\n",
      " [0.3 0.1]]\n",
      "na mao:\n",
      " [[0.9 0.3]\n",
      " [0.3 0.1]]\n"
     ]
    }
   ],
   "source": [
    "rho2 = np.outer(psi1, psi1.conjugate())\n",
    "print('produto: \\n', rho2)\n",
    "# compare com \n",
    "rho2b = np.array([[1-epsilon, np.sqrt(epsilon*(1-epsilon))],[np.sqrt(epsilon*(1-epsilon)), epsilon]])\n",
    "print('na mao:\\n', rho2b)"
   ]
  },
  {
   "cell_type": "markdown",
   "id": "8c62e58c",
   "metadata": {},
   "source": [
    "### Auto-estados de $\\hat{\\sigma}_x$\n",
    "Vamos definir o operador \n",
    "\n",
    "$$ \\hat{\\sigma}_x = \\begin{pmatrix} 0 & 1 \\\\ 1 & 0\\end{pmatrix}$$"
   ]
  },
  {
   "cell_type": "code",
   "execution_count": 21,
   "id": "b0485469",
   "metadata": {},
   "outputs": [
    {
     "name": "stdout",
     "output_type": "stream",
     "text": [
      "sx: \n",
      " [[0 1]\n",
      " [1 0]]\n"
     ]
    }
   ],
   "source": [
    "sigma_x = np.array([[0,1],[1,0]])\n",
    "print('sx: \\n', sigma_x)"
   ]
  },
  {
   "cell_type": "markdown",
   "id": "2e2f81b8",
   "metadata": {},
   "source": [
    "Agora mostrar que os auto-estados são os $ |+ \\rangle$ e $ |- \\rangle$ com autovalores $+1$ e $-1$, respectivamente. No numpy, a função np.linalg.eigh serve para diagonalizar matrizes Hermitianas, caso do operador em questão.\n",
    "\n"
   ]
  },
  {
   "cell_type": "code",
   "execution_count": 23,
   "id": "8c7daddf",
   "metadata": {},
   "outputs": [
    {
     "name": "stdout",
     "output_type": "stream",
     "text": [
      "autovalores: \n",
      " [-1.  1.]\n",
      "\n",
      " auto vetores (em colunas): \n",
      " [[-0.70710678  0.70710678]\n",
      " [ 0.70710678  0.70710678]]\n"
     ]
    }
   ],
   "source": [
    "vals_sx, vets_sx = np.linalg.eigh(sigma_x)\n",
    "print('autovalores: \\n', vals_sx)\n",
    "\n",
    "print('\\n auto vetores (em colunas): \\n', vets_sx)"
   ]
  },
  {
   "cell_type": "markdown",
   "id": "cf93f1c0",
   "metadata": {},
   "source": [
    "As vezes o sinal de um autovetor vem trocado, mas tudo bem. Eles continuam ortonormais e não vão mudar nosso resultado.\n"
   ]
  },
  {
   "cell_type": "code",
   "execution_count": 64,
   "id": "976d56ff",
   "metadata": {},
   "outputs": [],
   "source": [
    "minus = vets_sx[:,0].reshape(2,1)\n",
    "# eu vou trocar o sinal por consistência\n",
    "plus = -vets_sx[:,1].reshape(2,1)"
   ]
  },
  {
   "cell_type": "markdown",
   "id": "478fd7b0",
   "metadata": {},
   "source": [
    "Agora, vamos construir um operador que é uma mistura desses estados com probabilidades 50% pra cada\n",
    "\n",
    "$$\\hat{\\rho} = \\frac{1}{2} | + \\rangle \\langle +| +\\frac{1}{2} | - \\rangle \\langle -|$$\n"
   ]
  },
  {
   "cell_type": "code",
   "execution_count": 65,
   "id": "6fec7361",
   "metadata": {},
   "outputs": [
    {
     "name": "stdout",
     "output_type": "stream",
     "text": [
      "rho_pm: \n",
      " [[0.5 0. ]\n",
      " [0.  0.5]]\n"
     ]
    }
   ],
   "source": [
    "rhopm = 0.5 * np.outer(plus, plus.conjugate()) + 0.5 * np.outer(minus, minus.conjugate())\n",
    "\n",
    "print('rho_pm: \\n', rhopm)"
   ]
  },
  {
   "cell_type": "markdown",
   "id": "1df1872b",
   "metadata": {},
   "source": [
    "Lembrando que é a mesma matriz que teríamos se trocássemos de volta pra 0 e 1"
   ]
  },
  {
   "cell_type": "code",
   "execution_count": 66,
   "id": "2691fbbf",
   "metadata": {},
   "outputs": [
    {
     "name": "stdout",
     "output_type": "stream",
     "text": [
      "rho_01: \n",
      " [[0.5 0. ]\n",
      " [0.  0.5]]\n"
     ]
    }
   ],
   "source": [
    "rho01 = 0.5 * np.outer(one, one.conjugate()) + 0.5 * np.outer(zero, zero.conjugate())\n",
    "\n",
    "print('rho_01: \\n', rho01)"
   ]
  },
  {
   "cell_type": "markdown",
   "id": "2fe7fff5",
   "metadata": {},
   "source": [
    "Agora, vamos ver o caso de uma matriz de densidade construída a partir de um estado puro $| \\psi_\\pm \\rangle$ uma combinação dos $ |+ \\rangle$ e $ |- \\rangle$ \n",
    "\n",
    "$$ | \\psi_{\\pm}\\rangle = \\sqrt{1-\\epsilon}| + \\rangle + \\sqrt{\\epsilon} | - \\rangle$$"
   ]
  },
  {
   "cell_type": "code",
   "execution_count": 67,
   "id": "b82d1377",
   "metadata": {},
   "outputs": [
    {
     "name": "stdout",
     "output_type": "stream",
     "text": [
      "psi_pm:\n",
      " [[-0.89442719]\n",
      " [-0.4472136 ]]\n",
      "rho_psipm:\n",
      " [[0.8 0.4]\n",
      " [0.4 0.2]]\n"
     ]
    }
   ],
   "source": [
    "psi_pm = np.sqrt(1-epsilon) * plus + np.sqrt(epsilon) * minus\n",
    "print('psi_pm:\\n', psi_pm)\n",
    "\n",
    "rho_psipm = np.outer(psi_pm, psi_pm.conjugate())\n",
    "print('rho_psipm:\\n', rho_psipm)"
   ]
  },
  {
   "cell_type": "markdown",
   "id": "7e1dfb0e",
   "metadata": {},
   "source": [
    "A mesma matriz na base  $ |+ \\rangle$ e $ |- \\rangle$  é \n",
    "\n",
    "$$\n",
    "\\hat{\\rho}_{+-} = \\begin{pmatrix} 1 -\\epsilon & \\sqrt{\\epsilon(1-\\epsilon)} \\\\ \\sqrt{\\epsilon(1-\\epsilon)}  & \\epsilon\\end{pmatrix}\n",
    "$$"
   ]
  },
  {
   "cell_type": "code",
   "execution_count": 68,
   "id": "3185b5e9",
   "metadata": {},
   "outputs": [
    {
     "name": "stdout",
     "output_type": "stream",
     "text": [
      "rho_pm: \n",
      " [[0.9 0.3]\n",
      " [0.3 0.1]]\n"
     ]
    }
   ],
   "source": [
    "rho_pm = np.array([[1-epsilon, np.sqrt(epsilon*(1-epsilon))],[np.sqrt(epsilon*(1-epsilon)), epsilon]])\n",
    "                   \n",
    "print('rho_pm: \\n', rho_pm)"
   ]
  },
  {
   "cell_type": "markdown",
   "id": "104ed2fb",
   "metadata": {},
   "source": [
    "Vamos rodar as bases usando \n",
    "\n",
    "$$\n",
    "    \\hat{\\rho}_{10} = \\hat{U}_{\\pm, 01}^\\dagger \\hat{\\rho}_{+-}\\hat{U}_{\\pm, 01}\n",
    "$$\n",
    "\n",
    "A matrix $$  \\hat{U}_{\\pm, 01}$$ roda o sistema de $+-$ para $01$. Ela nada mais é do que a matriz de autovetores de $\\hat{\\sigma}_x$! Ou, explicitamente \n",
    "\n",
    "$$  \\hat{U}_{\\pm, 01} = \\left( |+\\rangle \\quad |-\\rangle \\right)$$"
   ]
  },
  {
   "cell_type": "code",
   "execution_count": 69,
   "id": "e675c2a9",
   "metadata": {},
   "outputs": [
    {
     "name": "stdout",
     "output_type": "stream",
     "text": [
      "U_pm_01: \n",
      " [[ 0.70710678  0.70710678]\n",
      " [-0.70710678  0.70710678]]\n"
     ]
    }
   ],
   "source": [
    "# estou usando copy porque o python, as vezes, usa um ponteiro na atribuicao do = e pode dar ruim se mudar a variável depois\n",
    "U_pm_01 = np.copy(vets_sx)\n",
    "# aqui eu vou mudar o sinal do vetor por consistência\n",
    "U_pm_01[:,0] *= -1\n",
    "print('U_pm_01: \\n', U_pm_01)\n"
   ]
  },
  {
   "cell_type": "code",
   "execution_count": 70,
   "id": "5b02bdc7",
   "metadata": {},
   "outputs": [
    {
     "name": "stdout",
     "output_type": "stream",
     "text": [
      "rodando: \n",
      " [[0.2 0.4]\n",
      " [0.4 0.8]]\n",
      "\n",
      "rho_psipm:\n",
      " [[0.8 0.4]\n",
      " [0.4 0.2]]\n"
     ]
    }
   ],
   "source": [
    "print('rodando: \\n', U_pm_01.T.conjugate() @ rho_pm @ U_pm_01)\n",
    "print('\\nrho_psipm:\\n', rho_psipm)"
   ]
  },
  {
   "cell_type": "code",
   "execution_count": 72,
   "id": "ca731a68",
   "metadata": {},
   "outputs": [
    {
     "name": "stdout",
     "output_type": "stream",
     "text": [
      "rho_01 parte |+><+| e |-><-|: \n",
      " [[0.5 0.4]\n",
      " [0.4 0.5]]\n",
      "\n",
      " rho_01 parte |-><+| e |+><-|: \n",
      " [[ 0.3  0. ]\n",
      " [ 0.  -0.3]]\n",
      "\n",
      " somando: \n",
      " [[0.8 0.4]\n",
      " [0.4 0.2]]\n"
     ]
    }
   ],
   "source": [
    "# ou, iterativamente\n",
    "rho_01_aux_diag = (1-epsilon)*np.outer(plus, plus)+epsilon*np.outer(minus, minus)\n",
    "print('rho_01 parte |+><+| e |-><-|: \\n', rho_01_aux_diag)\n",
    "\n",
    "rho_01_aux_offdiag= np.sqrt(epsilon*(1-epsilon))*(np.outer(plus, minus)+np.outer(minus, plus))\n",
    "\n",
    "print('\\n rho_01 parte |-><+| e |+><-|: \\n', rho_01_aux_offdiag)\n",
    "\n",
    "print('\\n somando: \\n', rho_01_aux_diag + rho_01_aux_offdiag)"
   ]
  },
  {
   "cell_type": "markdown",
   "id": "88b03714",
   "metadata": {},
   "source": [
    "## Pureza\n",
    "\n",
    "Vimos que a pureza de um estado $\\hat{\\rho}$ é calculada a partir de seus auto-valores $\\lambda_k$ como \n",
    "\n",
    "$$\n",
    "\\frac{1}{D}\\leq P = \\sum_k \\lambda_k^2 \\leq 1\n",
    "$$\n",
    "onde $D$ é a dimensão do espaço de Hilbert no qual $\\hat{\\rho}$ está definido. \n",
    "\n",
    "Vamos calcular a pureza para os estados anteriores. Lembra do estado $ | \\psi_{\\pm}\\rangle = \\sqrt{1-\\epsilon}| + \\rangle + \\sqrt{\\epsilon} | - \\rangle$. Construímos uma matriz de densidade para ele. A pureza dela é, obviamente $1$. Vejamos:\n"
   ]
  },
  {
   "cell_type": "code",
   "execution_count": 83,
   "id": "33783a48",
   "metadata": {},
   "outputs": [
    {
     "name": "stdout",
     "output_type": "stream",
     "text": [
      "autovalores de rho_psipm:\n",
      " [0. 1.]\n",
      "\n",
      " soma:  0.9999999999999997\n"
     ]
    }
   ],
   "source": [
    "\n",
    "lambdak_01, vlk_01 = np.linalg.eigh(rho_psipm)\n",
    "print('autovalores de rho_psipm:\\n', lambdak_01)\n",
    "print('\\n soma: ', lambdak_01.sum())"
   ]
  },
  {
   "cell_type": "markdown",
   "id": "113da7bd",
   "metadata": {},
   "source": [
    "Veja que a matriz $\\hat{\\rho}_{+-}$ (em outra base) não era diagonal e não era igual a ela. Vamos ver que ela tem os mesmos autovalores e auto-vetores.\n"
   ]
  },
  {
   "cell_type": "code",
   "execution_count": 80,
   "id": "bd65e7aa",
   "metadata": {},
   "outputs": [
    {
     "name": "stdout",
     "output_type": "stream",
     "text": [
      "autovalores de rho_pm:\n",
      " [-1.38777878e-17  1.00000000e+00]\n",
      "\n",
      " soma:  1.0\n"
     ]
    }
   ],
   "source": [
    "lambdak_pm, vlk_pm = np.linalg.eigh(rho_pm)\n",
    "print('autovalores de rho_pm:\\n', lambdak_pm)\n",
    "print('\\n soma: ', lambdak_pm.sum())"
   ]
  },
  {
   "cell_type": "markdown",
   "id": "a673c2de",
   "metadata": {},
   "source": [
    "Ah, uma coisa, lembra que dissemos que a matriz de densidade é sempre positiva e os autovalores são sempre \n",
    "$$\\lambda_k \\geq 0$$\n",
    "e somados dão $1$.\n",
    "\n",
    "OBS: Esse valor muuuuito pequeno aí em cima é negativo. A outra soma deu perto de $1$. Numericamente, isso pode acontecer ...Mas, atente que se aparece algum valor negativo considerável ou a soma muito distante de um pode ter algo estranho. \n",
    "\n",
    "Vamos comparar os auto-vetores das duas matrizes. Eles devem ser diferentes mesmo."
   ]
  },
  {
   "cell_type": "code",
   "execution_count": 82,
   "id": "55beaf60",
   "metadata": {},
   "outputs": [
    {
     "name": "stdout",
     "output_type": "stream",
     "text": [
      "autovalores de rho_psipm:\n",
      " [[ 0.4472136  -0.89442719]\n",
      " [-0.89442719 -0.4472136 ]]\n",
      "autovetores de rho_pm:\n",
      " [[ 0.31622777 -0.9486833 ]\n",
      " [-0.9486833  -0.31622777]]\n"
     ]
    }
   ],
   "source": [
    "print('autovalores de rho_psipm:\\n', vlk_01)\n",
    "print('autovetores de rho_pm:\\n', vlk_pm)"
   ]
  },
  {
   "cell_type": "markdown",
   "id": "7609ae4e",
   "metadata": {},
   "source": [
    "## Estado térmico\n",
    "\n",
    "Agora vamos falar de estados térmicos que são exemplos de estados não-puros. \n",
    "Vimos que um estado térmico a temperatura inversa $\\beta$ e definida por um Hamiltoniano $\\hat{H}$ pode ser calculado de duas formas.\n",
    "\n",
    "$$\n",
    "\\hat{\\rho}_\\beta = \\frac{1}{Z}\\sum_n e^{-\\beta E_n}|\\psi_n\\rangle \\langle\\psi_n|\n",
    "$$\n",
    "ou\n",
    "$$\n",
    "\\hat{\\rho}_\\beta = \\frac{e^{-\\beta \\hat{H}}}{\\text{Tr}[e^{-\\beta \\hat{H}}]}\n",
    "$$\n",
    "\n",
    "Vamos considerar os dois Hamiltonianos da aula \n",
    "$$\\hat{H}_z = -h \\hat{\\sigma}_z$$ e\n",
    "$$\\hat{H}_x = J \\hat{\\sigma}_x$$\n",
    "\n",
    "Tomemos $h=1$ e $J=0.5$"
   ]
  },
  {
   "cell_type": "code",
   "execution_count": 86,
   "id": "b0df2cf7",
   "metadata": {},
   "outputs": [
    {
     "name": "stdout",
     "output_type": "stream",
     "text": [
      "sz: \n",
      " [[ 1  0]\n",
      " [ 0 -1]]\n",
      "autovalores: \n",
      " [-1.  1.]\n",
      "\n",
      " auto vetores (em colunas): \n",
      " [[0. 1.]\n",
      " [1. 0.]]\n"
     ]
    }
   ],
   "source": [
    "sigma_z = np.array([[1,0],[0,-1]])\n",
    "print('sz: \\n', sigma_z)\n",
    "\n",
    "vals_sz, vets_sz = np.linalg.eigh(sigma_z)\n",
    "print('autovalores: \\n', vals_sz)\n",
    "\n",
    "print('\\n auto vetores (em colunas): \\n', vets_sz)"
   ]
  },
  {
   "cell_type": "code",
   "execution_count": 89,
   "id": "f5822446",
   "metadata": {},
   "outputs": [
    {
     "name": "stdout",
     "output_type": "stream",
     "text": [
      "\n",
      " Hz:\n",
      " [[-1  0]\n",
      " [ 0  1]]\n",
      "\n",
      " Hx:\n",
      " [[0.  0.5]\n",
      " [0.5 0. ]]\n"
     ]
    }
   ],
   "source": [
    "# Hz\n",
    "h = 1\n",
    "Hz = -h * sigma_z\n",
    "print('\\n Hz:\\n', Hz)\n",
    "\n",
    "# Hx\n",
    "J = 0.5\n",
    "Hx = J * sigma_x\n",
    "print('\\n Hx:\\n', Hx)"
   ]
  },
  {
   "cell_type": "markdown",
   "id": "da51cbd7",
   "metadata": {},
   "source": [
    "O $H_z$ já está na forma diagonal, mas os auto-valores estão multiplicados por uma constante negativa. Para facilitar, vamos criar uma função que calcula os pesos de Boltzman e outra que calcula o estado de Gibbs a partir dos autoestados do Hamiltoniano. Alguns hacks são usados para evitar problemas numéricos.\n"
   ]
  },
  {
   "cell_type": "code",
   "execution_count": 144,
   "id": "19c8e531",
   "metadata": {},
   "outputs": [],
   "source": [
    "def boltzman_weights(E_n: np.array, beta: float):\n",
    "    \"\"\"\n",
    "    Calculates the Boltzman weights p_n = e^{-beta E_n} / Z, where Z = \\sum_n e^{-beta E_n}\n",
    "\n",
    "    Inputs:\n",
    "        - E_n: eigenenergies of Hamiltonian, np.array\n",
    "        - beta: inverse temperature, float\n",
    "\t\n",
    "\tOutputs: \n",
    "        - p_n: Boltzman weights (not normalized by the partition function)    \n",
    "    \"\"\"\n",
    "    p_n = np.exp(-(E_n-E_n[0])*beta) / (1.0 + np.exp(-(E_n[1:]-E_n[0])*beta).sum())\n",
    "    return p_n\n",
    "\n",
    "\n",
    "def Gibbs_state(E_n: np.array, Psi_n: np.array, beta: float, return_Z=False):\n",
    "    \"\"\"\n",
    "    Calculates the Gibbs state for a system defined by a Hamiltonian $H$ at inverse \n",
    "    temperature $\\beta = T^{-1}$. \n",
    "\n",
    "        $\\rho_{Gibbs} = \\exp{-\\beta H} / Z$\n",
    "\n",
    "        with $Z = \\Tr{\\exp{-\\beta H}}$.\n",
    "\n",
    "    In the eigenbasis $\\{E_n, \\Psi_n\\}$ of the Hamiltonian $H$, this state corresponds to\n",
    "        $\\rho_{Gibbs} = \\sum_n p_n \\ket{\\Psi_n} \\bra{\\Psi_m}$,\n",
    "\n",
    "    where $p_n = \\exp{-\\beta E_n} / Z$ are the Boltzman weights.\n",
    "\n",
    "    Inputs:\n",
    "        - E_n: eigen-energies of a Hamiltonian (np.array)\n",
    "        - Psi_n: eigen-states of a Hamiltonian (np.array: matrix)\n",
    "        - beta: inverse temperature (float)\n",
    "        - return_Z: flag to return or not the partition function (bool)\n",
    "\t\n",
    "\tOutputs: \n",
    "        - rho_Gibbs: density matrix (np.array)\n",
    "        - Z: partition function (float)    \n",
    "\n",
    "    \"\"\"\n",
    "    D = Psi_n.shape[0]\n",
    "    rho_Gibbs = np.zeros((D,D))\n",
    "    p_n = boltzman_weights(E_n, beta)\n",
    "\n",
    "    for n in range(D):\n",
    "        rho_Gibbs += p_n[n] * np.outer(Psi_n[:,n], Psi_n[:,n].conjugate())\n",
    "    \n",
    "    Z = p_n.sum()\n",
    "\n",
    "    rho_Gibbs /= Z\n",
    "    \n",
    "    if(return_Z is False):\n",
    "        return rho_Gibbs\n",
    "\n",
    "    return rho_Gibbs, Z\n",
    "\n"
   ]
  },
  {
   "cell_type": "code",
   "execution_count": 128,
   "id": "3c0a54bb",
   "metadata": {},
   "outputs": [],
   "source": [
    "# energias/autoestados de Hz\n",
    "En_z = np.array([-h,h])\n",
    "Psin_z = np.array([zero, one]).reshape(2,2).T\n",
    "\n",
    "# energias/autoestados de Hx\n",
    "En_x = np.array([-J,J])\n",
    "Psin_x = np.array([-minus, plus]).reshape(2,2).T"
   ]
  },
  {
   "cell_type": "markdown",
   "id": "863253f6",
   "metadata": {},
   "source": [
    "Podemos calcular os mesmos estados usando a exponenciação dos operadores. Então importamos a função expm scipy.linalg "
   ]
  },
  {
   "cell_type": "code",
   "execution_count": 140,
   "id": "043fca3e",
   "metadata": {},
   "outputs": [],
   "source": [
    "from scipy.linalg import expm"
   ]
  },
  {
   "cell_type": "code",
   "execution_count": 160,
   "id": "1551cdfd",
   "metadata": {},
   "outputs": [
    {
     "name": "stdout",
     "output_type": "stream",
     "text": [
      "Hz: pesos de Bolztman para T = 0: \n",
      " [1.0000000e+000 1.9151696e-174]\n",
      "Hz: estado térmico T = 0: \n",
      " [[1.0000000e+000 0.0000000e+000]\n",
      " [0.0000000e+000 1.9151696e-174]]\n",
      "Hz: estado térmico T = 0 (exp H): \n",
      " [[1. 0.]\n",
      " [0. 0.]]\n",
      "Hz: pureza T = 0: \n",
      " 1.0\n",
      "\n",
      "Hx: pesos de Bolztman para T = 0: \n",
      " [1.00000000e+00 1.38389653e-87]\n",
      "Hx: estado térmico T = 0: \n",
      " [[ 0.5 -0.5]\n",
      " [-0.5  0.5]]\n",
      "Hx: estado térmico T = 0 (exp H): \n",
      " [[ 0.5 -0.5]\n",
      " [-0.5  0.5]]\n",
      "Hx: pureza T = 0: \n",
      " 1.0\n"
     ]
    }
   ],
   "source": [
    "# temperatura 0\n",
    "beta = 200\n",
    "pn_z_0 = boltzman_weights(En_z, beta)\n",
    "print('Hz: pesos de Bolztman para T = 0: \\n', pn_z_0)\n",
    "rho_beta_z_0 = Gibbs_state(En_z, Psin_z, beta)\n",
    "print('Hz: estado térmico T = 0: \\n', rho_beta_z_0)\n",
    "# para esse beta grande, a porca torce o rabo\n",
    "print('Hz: estado térmico T = 0 (exp H): \\n', expm(-beta * Hz) / np.trace(expm(-beta * Hz)))\n",
    "l_Hz_0 = np.linalg.eigvals(rho_beta_z_0)\n",
    "print('Hz: pureza T = 0: \\n', (l_Hz_0**2).sum())\n",
    "\n",
    "\n",
    "pn_x_0 = boltzman_weights(En_x, beta)\n",
    "print('\\nHx: pesos de Bolztman para T = 0: \\n', pn_x_0)\n",
    "rho_beta_x_0 = Gibbs_state(En_x, Psin_x, beta)\n",
    "print('Hx: estado térmico T = 0: \\n', rho_beta_x_0)\n",
    "print('Hx: estado térmico T = 0 (exp H): \\n', expm(-beta * Hx) / np.trace(expm(-beta * Hx)))\n",
    "l_Hx_0 = np.linalg.eigvals(rho_beta_z_0)\n",
    "print('Hx: pureza T = 0: \\n', (l_Hx_0**2).sum())\n",
    "\n"
   ]
  },
  {
   "cell_type": "code",
   "execution_count": 161,
   "id": "46864d19",
   "metadata": {},
   "outputs": [
    {
     "name": "stdout",
     "output_type": "stream",
     "text": [
      "Hz: pesos de Bolztman para T = inf: \n",
      " [0.5 0.5]\n",
      "Hz: estado térmico T = inf: \n",
      " [[0.5 0. ]\n",
      " [0.  0.5]]\n",
      "Hz: estado térmico T = inf (exp H): \n",
      " [[0.5 0. ]\n",
      " [0.  0.5]]\n",
      "Hz: pureza T = inf: \n",
      " 0.5\n",
      "\n",
      "Hx: pesos de Bolztman para T = inf: \n",
      " [0.5 0.5]\n",
      "Hx: estado térmico T = inf: \n",
      " [[0.5 0. ]\n",
      " [0.  0.5]]\n",
      "Hx: estado térmico T = inf (exp H): \n",
      " [[0.5 0. ]\n",
      " [0.  0.5]]\n",
      "Hx: pureza T = inf: \n",
      " 0.4999999999999998\n"
     ]
    }
   ],
   "source": [
    "# temperatura infinita\n",
    "beta = 0\n",
    "pn_z_inf = boltzman_weights(En_z, beta)\n",
    "print('Hz: pesos de Bolztman para T = inf: \\n', pn_z_inf)\n",
    "rho_beta_z_inf = Gibbs_state(En_z, Psin_z, beta)\n",
    "print('Hz: estado térmico T = inf: \\n', rho_beta_z_inf)\n",
    "print('Hz: estado térmico T = inf (exp H): \\n', expm(-beta * Hz) / np.trace(expm(-beta * Hz)))\n",
    "l_Hz_inf = np.linalg.eigvals(rho_beta_z_inf)\n",
    "print('Hz: pureza T = inf: \\n', (l_Hz_inf**2).sum())\n",
    "\n",
    "\n",
    "\n",
    "pn_x_inf = boltzman_weights(En_x, beta)\n",
    "print('\\nHx: pesos de Bolztman para T = inf: \\n', pn_x_inf)\n",
    "rho_beta_x_inf = Gibbs_state(En_x, Psin_x, beta)\n",
    "print('Hx: estado térmico T = inf: \\n', rho_beta_x_inf)\n",
    "print('Hx: estado térmico T = inf (exp H): \\n', expm(-beta * Hx) / np.trace(expm(-beta * Hx)))\n",
    "l_Hx_inf = np.linalg.eigvals(rho_beta_x_inf)\n",
    "print('Hx: pureza T = inf: \\n', (l_Hx_inf**2).sum())\n",
    "\n"
   ]
  },
  {
   "cell_type": "code",
   "execution_count": 165,
   "id": "a21d767a",
   "metadata": {},
   "outputs": [
    {
     "name": "stdout",
     "output_type": "stream",
     "text": [
      "Hz: pesos de Bolztman para k_B T = 2.5 J: \n",
      " [0.68997448 0.31002552]\n",
      "Hz: estado térmico k_B T = 2.5J: \n",
      " [[0.68997448 0.        ]\n",
      " [0.         0.31002552]]\n",
      "Hz: estado térmico k_B T = 2.5J (exp H): \n",
      " [[ 0.68997448 -0.        ]\n",
      " [-0.          0.31002552]]\n",
      "Hz: pureza T =  2.5J: \n",
      " 0.5721806069594112\n",
      "\n",
      "Hx: pesos de Bolztman para k_B T = 2.5 J: \n",
      " [0.59868766 0.40131234]\n",
      "Hx: estado térmico k_B T = 2.5 J: \n",
      " [[ 0.5        -0.09868766]\n",
      " [-0.09868766  0.5       ]]\n",
      "Hx: estado térmico k_B T = 2.5 J (exp H): \n",
      " [[ 0.5        -0.09868766]\n",
      " [-0.09868766  0.5       ]]\n",
      "Hx: pureza T =  2.5J: \n",
      " 0.5194785085169414\n"
     ]
    }
   ],
   "source": [
    "# temperatura intermediária \n",
    "beta = 0.4\n",
    "pn_z_b = boltzman_weights(En_z, beta)\n",
    "print('Hz: pesos de Bolztman para k_B T = 2.5 J: \\n', pn_z_b)\n",
    "rho_beta_z_b = Gibbs_state(En_z, Psin_z, beta)\n",
    "print('Hz: estado térmico k_B T = 2.5J: \\n', rho_beta_z_b)\n",
    "print('Hz: estado térmico k_B T = 2.5J (exp H): \\n', expm(-beta * Hz) / np.trace(expm(-beta * Hz)))\n",
    "l_Hz_b = np.linalg.eigvals(rho_beta_z_b)\n",
    "print('Hz: pureza T =  2.5J: \\n', (l_Hz_b**2).sum())\n",
    "\n",
    "\n",
    "\n",
    "pn_x_b = boltzman_weights(En_x, beta)\n",
    "print('\\nHx: pesos de Bolztman para k_B T = 2.5 J: \\n', pn_x_b)\n",
    "rho_beta_x_b = Gibbs_state(En_x, Psin_x, beta)\n",
    "print('Hx: estado térmico k_B T = 2.5 J: \\n', rho_beta_x_b)\n",
    "print('Hx: estado térmico k_B T = 2.5 J (exp H): \\n', expm(-beta * Hx) / np.trace(expm(-beta * Hx)))\n",
    "l_Hx_b = np.linalg.eigvals(rho_beta_x_b)\n",
    "print('Hx: pureza T =  2.5J: \\n', (l_Hx_b**2).sum())\n"
   ]
  },
  {
   "cell_type": "code",
   "execution_count": null,
   "id": "f8180916",
   "metadata": {},
   "outputs": [],
   "source": []
  }
 ],
 "metadata": {
  "kernelspec": {
   "display_name": "Python 3 (ipykernel)",
   "language": "python",
   "name": "python3"
  },
  "language_info": {
   "codemirror_mode": {
    "name": "ipython",
    "version": 3
   },
   "file_extension": ".py",
   "mimetype": "text/x-python",
   "name": "python",
   "nbconvert_exporter": "python",
   "pygments_lexer": "ipython3",
   "version": "3.9.13"
  }
 },
 "nbformat": 4,
 "nbformat_minor": 5
}
